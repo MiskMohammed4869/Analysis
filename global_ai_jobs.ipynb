{
  "metadata": {
    "kernelspec": {
      "name": "python3",
      "display_name": "Python 3",
      "language": "python"
    },
    "language_info": {
      "name": "python",
      "version": "3.11.13",
      "mimetype": "text/x-python",
      "codemirror_mode": {
        "name": "ipython",
        "version": 3
      },
      "pygments_lexer": "ipython3",
      "nbconvert_exporter": "python",
      "file_extension": ".py"
    },
    "colab": {
      "provenance": [],
      "name": "global ai jobs"
    },
    "kaggle": {
      "accelerator": "none",
      "dataSources": [
        {
          "sourceId": 12317903,
          "sourceType": "datasetVersion",
          "datasetId": 7564261
        }
      ],
      "dockerImageVersionId": 31089,
      "isInternetEnabled": true,
      "language": "python",
      "sourceType": "notebook",
      "isGpuEnabled": false
    }
  },
  "nbformat_minor": 0,
  "nbformat": 4,
  "cells": [
    {
      "source": [
        "# IMPORTANT: RUN THIS CELL IN ORDER TO IMPORT YOUR KAGGLE DATA SOURCES,\n",
        "# THEN FEEL FREE TO DELETE THIS CELL.\n",
        "# NOTE: THIS NOTEBOOK ENVIRONMENT DIFFERS FROM KAGGLE'S PYTHON\n",
        "# ENVIRONMENT SO THERE MAY BE MISSING LIBRARIES USED BY YOUR\n",
        "# NOTEBOOK.\n",
        "import kagglehub\n",
        "bismasajjad_global_ai_job_market_and_salary_trends_2025_path = kagglehub.dataset_download('bismasajjad/global-ai-job-market-and-salary-trends-2025')\n",
        "\n",
        "print('Data source import complete.')\n"
      ],
      "metadata": {
        "id": "WRYK_4z3aSCb"
      },
      "cell_type": "code",
      "outputs": [],
      "execution_count": null
    },
    {
      "cell_type": "markdown",
      "source": [
        "# Insights from the Global AI Job Market Dataset\n"
      ],
      "metadata": {
        "id": "-N23KrKsaSCe"
      }
    },
    {
      "cell_type": "code",
      "source": [
        "import pandas as pd\n",
        "df = pd.read_csv('/kaggle/input/global-ai-job-market-and-salary-trends-2025/ai_job_dataset1.csv')"
      ],
      "metadata": {
        "id": "ce906740-955a-4db0-b461-d9d36d09b628",
        "trusted": true,
        "execution": {
          "iopub.status.busy": "2025-09-03T18:24:22.783666Z",
          "iopub.execute_input": "2025-09-03T18:24:22.784042Z",
          "iopub.status.idle": "2025-09-03T18:24:22.882166Z",
          "shell.execute_reply.started": "2025-09-03T18:24:22.784015Z",
          "shell.execute_reply": "2025-09-03T18:24:22.8812Z"
        }
      },
      "outputs": [],
      "execution_count": null
    },
    {
      "cell_type": "markdown",
      "source": [
        "### ⦁ Experience level categorization:\n",
        "EN (Entry), MI (Mid), SE (Senior), EX (Executive)\n",
        "### ⦁ employment_type:\n",
        "FT (Full-time), PT (Part-time), CT (Contract), FL (Freelance)\n",
        "### ⦁ company_size:\n",
        "S (Small <50), M (Medium 50-250), L (Large >250)\n",
        "### ⦁ remote_ratio:\n",
        "0 (No remote), 50 (Hybrid), 100 (Fully remote)"
      ],
      "metadata": {
        "id": "IWBzSd-daSCg"
      }
    },
    {
      "cell_type": "code",
      "source": [
        "df.head()"
      ],
      "metadata": {
        "id": "ea735ede-f14c-497f-b7ed-60a4793f982f",
        "trusted": true,
        "execution": {
          "iopub.status.busy": "2025-09-03T18:24:26.402767Z",
          "iopub.execute_input": "2025-09-03T18:24:26.403153Z",
          "iopub.status.idle": "2025-09-03T18:24:26.420315Z",
          "shell.execute_reply.started": "2025-09-03T18:24:26.403127Z",
          "shell.execute_reply": "2025-09-03T18:24:26.419331Z"
        }
      },
      "outputs": [],
      "execution_count": null
    },
    {
      "cell_type": "code",
      "source": [
        "df.tail()"
      ],
      "metadata": {
        "id": "d61e1ebe-0aed-4610-ab97-764a04043c65",
        "trusted": true,
        "execution": {
          "iopub.status.busy": "2025-09-03T18:24:30.199266Z",
          "iopub.execute_input": "2025-09-03T18:24:30.199563Z",
          "iopub.status.idle": "2025-09-03T18:24:30.216282Z",
          "shell.execute_reply.started": "2025-09-03T18:24:30.199543Z",
          "shell.execute_reply": "2025-09-03T18:24:30.215007Z"
        }
      },
      "outputs": [],
      "execution_count": null
    },
    {
      "cell_type": "code",
      "source": [
        "df.info()"
      ],
      "metadata": {
        "id": "33019d83-dfea-4d24-b411-77c2eccef641",
        "trusted": true,
        "execution": {
          "iopub.status.busy": "2025-09-03T18:24:33.845151Z",
          "iopub.execute_input": "2025-09-03T18:24:33.845494Z",
          "iopub.status.idle": "2025-09-03T18:24:33.871358Z",
          "shell.execute_reply.started": "2025-09-03T18:24:33.84547Z",
          "shell.execute_reply": "2025-09-03T18:24:33.8702Z"
        }
      },
      "outputs": [],
      "execution_count": null
    },
    {
      "cell_type": "code",
      "source": [
        "df['posting_date'] = pd.to_datetime(df['posting_date'])\n",
        "df['application_deadline'] = pd.to_datetime(df['application_deadline'])"
      ],
      "metadata": {
        "id": "d8611431-a5a3-4b76-ac9a-f06aef8a7790",
        "trusted": true,
        "execution": {
          "iopub.status.busy": "2025-09-03T18:24:38.147943Z",
          "iopub.execute_input": "2025-09-03T18:24:38.148289Z",
          "iopub.status.idle": "2025-09-03T18:24:38.16202Z",
          "shell.execute_reply.started": "2025-09-03T18:24:38.148265Z",
          "shell.execute_reply": "2025-09-03T18:24:38.161096Z"
        }
      },
      "outputs": [],
      "execution_count": null
    },
    {
      "cell_type": "code",
      "source": [
        "df.shape\n",
        "#15000*20"
      ],
      "metadata": {
        "id": "f2928b9d-8fa9-46d8-b312-8cf9e12dba78",
        "trusted": true,
        "execution": {
          "iopub.status.busy": "2025-09-03T18:24:40.987746Z",
          "iopub.execute_input": "2025-09-03T18:24:40.98813Z",
          "iopub.status.idle": "2025-09-03T18:24:40.99399Z",
          "shell.execute_reply.started": "2025-09-03T18:24:40.988101Z",
          "shell.execute_reply": "2025-09-03T18:24:40.992884Z"
        }
      },
      "outputs": [],
      "execution_count": null
    },
    {
      "cell_type": "code",
      "source": [
        "df.isna().sum().sum()\n",
        "#no null or missing values"
      ],
      "metadata": {
        "id": "ba7ccf5c-d941-4a7b-abe9-803aafcbcc32",
        "trusted": true,
        "execution": {
          "iopub.status.busy": "2025-09-03T18:24:43.392277Z",
          "iopub.execute_input": "2025-09-03T18:24:43.392732Z",
          "iopub.status.idle": "2025-09-03T18:24:43.420779Z",
          "shell.execute_reply.started": "2025-09-03T18:24:43.392692Z",
          "shell.execute_reply": "2025-09-03T18:24:43.41912Z"
        }
      },
      "outputs": [],
      "execution_count": null
    },
    {
      "cell_type": "code",
      "source": [
        "df.duplicated().sum()\n",
        "#no duplicates"
      ],
      "metadata": {
        "id": "26fb1075-a256-4821-ba0b-44f4e17d8843",
        "trusted": true,
        "execution": {
          "iopub.status.busy": "2025-09-03T18:24:45.155788Z",
          "iopub.execute_input": "2025-09-03T18:24:45.156617Z",
          "iopub.status.idle": "2025-09-03T18:24:45.182197Z",
          "shell.execute_reply.started": "2025-09-03T18:24:45.156586Z",
          "shell.execute_reply": "2025-09-03T18:24:45.181223Z"
        }
      },
      "outputs": [],
      "execution_count": null
    },
    {
      "cell_type": "code",
      "source": [
        "df.describe()"
      ],
      "metadata": {
        "id": "32339528-e46b-4754-906f-eb1abd42bdb6",
        "trusted": true,
        "execution": {
          "iopub.status.busy": "2025-09-03T18:24:48.175673Z",
          "iopub.execute_input": "2025-09-03T18:24:48.176073Z",
          "iopub.status.idle": "2025-09-03T18:24:48.209459Z",
          "shell.execute_reply.started": "2025-09-03T18:24:48.176048Z",
          "shell.execute_reply": "2025-09-03T18:24:48.208646Z"
        }
      },
      "outputs": [],
      "execution_count": null
    },
    {
      "cell_type": "code",
      "source": [
        "df.groupby('job_title')['salary_usd'].mean()"
      ],
      "metadata": {
        "trusted": true,
        "execution": {
          "iopub.status.busy": "2025-09-03T18:24:51.984517Z",
          "iopub.execute_input": "2025-09-03T18:24:51.984836Z",
          "iopub.status.idle": "2025-09-03T18:24:51.994587Z",
          "shell.execute_reply.started": "2025-09-03T18:24:51.984813Z",
          "shell.execute_reply": "2025-09-03T18:24:51.993681Z"
        },
        "id": "hk1rnXg7aSCj"
      },
      "outputs": [],
      "execution_count": null
    },
    {
      "cell_type": "markdown",
      "source": [
        "## 1.Salary Insights\n",
        "- **Average: ~$122K/year**\n",
        "- Highest salaries:\n",
        "  \n",
        "  - Data Engineer: ~$127.5K\n",
        "    \n",
        "  - AI Product Manager: ~$126K\n",
        "\n",
        "  - Deep Learning Engineer: ~$124.4K  \n",
        "→ Technical engineering roles are the most rewarding."
      ],
      "metadata": {
        "id": "DLURiu9TaSCj"
      }
    },
    {
      "cell_type": "markdown",
      "source": [
        "### There is a right skewness in salary_usd\n",
        "### Most roles target mid-level professionals."
      ],
      "metadata": {
        "id": "jX_OtWXUaSCk"
      }
    },
    {
      "cell_type": "code",
      "source": [
        "import matplotlib.pyplot as plt\n",
        "\n",
        "df['salary_usd'].hist(bins=50)\n",
        "plt.title('Salary USD Distribution')\n",
        "plt.xlabel('Salary USD')\n",
        "plt.ylabel('Frequency')\n",
        "plt.show()"
      ],
      "metadata": {
        "id": "d02a5289-6d57-4be1-9f7f-5f823c72dd94",
        "trusted": true,
        "execution": {
          "iopub.status.busy": "2025-09-03T17:16:19.073731Z",
          "iopub.execute_input": "2025-09-03T17:16:19.074093Z",
          "iopub.status.idle": "2025-09-03T17:16:19.532303Z",
          "shell.execute_reply.started": "2025-09-03T17:16:19.074062Z",
          "shell.execute_reply": "2025-09-03T17:16:19.531257Z"
        }
      },
      "outputs": [],
      "execution_count": null
    },
    {
      "cell_type": "code",
      "source": [
        "df.describe(include='O')\n",
        "#ML Engineers are in high demand but not dominating the market. 824/15000*100 = 5.49 %\n",
        "#"
      ],
      "metadata": {
        "id": "ac8fbe45-c541-4b9a-a721-54e84829fca4",
        "trusted": true,
        "execution": {
          "iopub.status.busy": "2025-09-03T17:16:19.533577Z",
          "iopub.execute_input": "2025-09-03T17:16:19.534324Z",
          "iopub.status.idle": "2025-09-03T17:16:19.606171Z",
          "shell.execute_reply.started": "2025-09-03T17:16:19.534289Z",
          "shell.execute_reply": "2025-09-03T17:16:19.60496Z"
        }
      },
      "outputs": [],
      "execution_count": null
    },
    {
      "cell_type": "code",
      "source": [
        "df['job_title'].value_counts()"
      ],
      "metadata": {
        "id": "ecbaa235-cb4c-4721-93c3-cb5330a62d22",
        "trusted": true,
        "execution": {
          "iopub.status.busy": "2025-09-03T17:16:19.796109Z",
          "iopub.execute_input": "2025-09-03T17:16:19.796442Z",
          "iopub.status.idle": "2025-09-03T17:16:19.825032Z",
          "shell.execute_reply.started": "2025-09-03T17:16:19.796414Z",
          "shell.execute_reply": "2025-09-03T17:16:19.82398Z"
        }
      },
      "outputs": [],
      "execution_count": null
    },
    {
      "cell_type": "markdown",
      "source": [
        "## 2. Top AI Job Titles\n",
        "- **Machine Learning Engineer (824 jobs)**\n",
        "- **Deep Learning Engineer (786 jobs)**\n",
        "- **Computer Vision Engineer (780 jobs)**  \n",
        "→ Strong demand for core machine learning and deep learning roles."
      ],
      "metadata": {
        "id": "cZPlIgOraSCk"
      }
    },
    {
      "cell_type": "code",
      "source": [
        "top_jobs = df['job_title'].value_counts().head(10)\n",
        "plt.figure(figsize=(10, 6))\n",
        "plt.barh(top_jobs.index[::-1], top_jobs.values[::-1])\n",
        "plt.xlabel(\"Number of Jobs\")\n",
        "plt.ylabel(\"Job Title\")\n",
        "plt.title(\"Top 10 AI Job Titles by Demand\")\n",
        "plt.tight_layout()\n",
        "plt.show()"
      ],
      "metadata": {
        "trusted": true,
        "execution": {
          "iopub.status.busy": "2025-09-03T17:52:33.28803Z",
          "iopub.execute_input": "2025-09-03T17:52:33.288941Z",
          "iopub.status.idle": "2025-09-03T17:52:33.573043Z",
          "shell.execute_reply.started": "2025-09-03T17:52:33.288878Z",
          "shell.execute_reply": "2025-09-03T17:52:33.57212Z"
        },
        "id": "doCS9-tAaSCk"
      },
      "outputs": [],
      "execution_count": null
    },
    {
      "cell_type": "code",
      "source": [
        "df['experience_level'].value_counts()\n",
        "# EN (Entry), MI (Mid), SE (Senior), EX (Executive)"
      ],
      "metadata": {
        "id": "9e426e5e-f26d-4dbb-a092-687bc45e6d6e",
        "trusted": true,
        "execution": {
          "iopub.status.busy": "2025-09-03T17:33:49.51303Z",
          "iopub.execute_input": "2025-09-03T17:33:49.514119Z",
          "iopub.status.idle": "2025-09-03T17:33:49.523432Z",
          "shell.execute_reply.started": "2025-09-03T17:33:49.514085Z",
          "shell.execute_reply": "2025-09-03T17:33:49.52242Z"
        }
      },
      "outputs": [],
      "execution_count": null
    },
    {
      "cell_type": "markdown",
      "source": [
        "## 3. Experience Level Distribution\n",
        "- **Experienced (EX): 3,843**\n",
        "- **Mid-level (MI): 3,764**\n",
        "- **Senior (SE): 3,741**\n",
        "- **Entry-level (EN): 3,652**  \n",
        "→ Market favors experienced professionals."
      ],
      "metadata": {
        "id": "c9DeYLPlaSCl"
      }
    },
    {
      "cell_type": "code",
      "source": [
        "avg_salary_exp = df.groupby('experience_level')['salary_usd'].mean().sort_values()\n",
        "plt.figure(figsize=(8, 5))\n",
        "plt.bar(avg_salary_exp.index, avg_salary_exp.values)\n",
        "plt.ylabel(\"Average Salary (USD)\")\n",
        "plt.title(\"Average Salary by Experience Level\")\n",
        "plt.tight_layout()\n",
        "plt.show()"
      ],
      "metadata": {
        "trusted": true,
        "execution": {
          "iopub.status.busy": "2025-09-03T17:54:15.747686Z",
          "iopub.execute_input": "2025-09-03T17:54:15.748089Z",
          "iopub.status.idle": "2025-09-03T17:54:15.934359Z",
          "shell.execute_reply.started": "2025-09-03T17:54:15.748064Z",
          "shell.execute_reply": "2025-09-03T17:54:15.933476Z"
        },
        "id": "AQtClQrdaSCl"
      },
      "outputs": [],
      "execution_count": null
    },
    {
      "cell_type": "code",
      "source": [
        "df['employment_type'].value_counts()"
      ],
      "metadata": {
        "id": "d6d735db-d913-4f18-8ad7-87bdfa420448",
        "trusted": true,
        "execution": {
          "iopub.status.busy": "2025-09-03T17:34:34.578643Z",
          "iopub.execute_input": "2025-09-03T17:34:34.579036Z",
          "iopub.status.idle": "2025-09-03T17:34:34.588098Z",
          "shell.execute_reply.started": "2025-09-03T17:34:34.579012Z",
          "shell.execute_reply": "2025-09-03T17:34:34.586883Z"
        }
      },
      "outputs": [],
      "execution_count": null
    },
    {
      "cell_type": "markdown",
      "source": [
        "## 4. Employment Type\n",
        "- **Contract: 3,841**\n",
        "- **Part-time: 3,757**\n",
        "- **Freelance: 3,705**\n",
        "- **Full-time: 3,697**  \n",
        "→ Contract and part-time opportunities are highly available."
      ],
      "metadata": {
        "id": "Yz9pprB8aSCl"
      }
    },
    {
      "cell_type": "code",
      "source": [
        "print(df['company_location'].value_counts())"
      ],
      "metadata": {
        "trusted": true,
        "execution": {
          "iopub.status.busy": "2025-09-03T18:31:15.650542Z",
          "iopub.execute_input": "2025-09-03T18:31:15.650875Z",
          "iopub.status.idle": "2025-09-03T18:31:15.657988Z",
          "shell.execute_reply.started": "2025-09-03T18:31:15.650849Z",
          "shell.execute_reply": "2025-09-03T18:31:15.657079Z"
        },
        "id": "UKtNo_n7aSCl"
      },
      "outputs": [],
      "execution_count": null
    },
    {
      "cell_type": "code",
      "source": [
        "print(df['employee_residence'].value_counts().head(10))"
      ],
      "metadata": {
        "trusted": true,
        "execution": {
          "iopub.status.busy": "2025-09-03T18:31:40.607045Z",
          "iopub.execute_input": "2025-09-03T18:31:40.607359Z",
          "iopub.status.idle": "2025-09-03T18:31:40.61538Z",
          "shell.execute_reply.started": "2025-09-03T18:31:40.607339Z",
          "shell.execute_reply": "2025-09-03T18:31:40.614044Z"
        },
        "id": "DFzeuHzzaSCl"
      },
      "outputs": [],
      "execution_count": null
    },
    {
      "cell_type": "markdown",
      "source": [
        "## 5. Company Location & Residence\n",
        "- **Top company locations:**\n",
        "  \n",
        "  Switzerland, Canada, UK, USA, Singapore, China  \n",
        "- **Top employee residences:**\n",
        "  \n",
        "  Switzerland, China, Ireland, Canada, France, India  \n",
        "→ High concentration of AI jobs in Europe, North America, and parts of Asia."
      ],
      "metadata": {
        "id": "P89VLjCRaSCl"
      }
    },
    {
      "cell_type": "code",
      "source": [
        "df['remote_ratio'].value_counts()"
      ],
      "metadata": {
        "trusted": true,
        "execution": {
          "iopub.status.busy": "2025-09-03T18:33:06.17886Z",
          "iopub.execute_input": "2025-09-03T18:33:06.179205Z",
          "iopub.status.idle": "2025-09-03T18:33:06.187389Z",
          "shell.execute_reply.started": "2025-09-03T18:33:06.179184Z",
          "shell.execute_reply": "2025-09-03T18:33:06.186281Z"
        },
        "id": "UQkWSu8IaSCl"
      },
      "outputs": [],
      "execution_count": null
    },
    {
      "cell_type": "markdown",
      "source": [
        "## 6. Remote Work\n",
        "- **100% remote: 5,034**\n",
        "- **50% remote: 4,991**\n",
        "- **On-site: 4,975**  \n",
        "→ Balanced distribution with a slight preference for remote work."
      ],
      "metadata": {
        "id": "4HlLWfrgaSCl"
      }
    },
    {
      "cell_type": "code",
      "source": [
        "df['education_required'].value_counts()"
      ],
      "metadata": {
        "trusted": true,
        "execution": {
          "iopub.status.busy": "2025-09-03T18:34:52.847775Z",
          "iopub.execute_input": "2025-09-03T18:34:52.84926Z",
          "iopub.status.idle": "2025-09-03T18:34:52.858184Z",
          "shell.execute_reply.started": "2025-09-03T18:34:52.849218Z",
          "shell.execute_reply": "2025-09-03T18:34:52.856738Z"
        },
        "id": "dq4gCKw2aSCl"
      },
      "outputs": [],
      "execution_count": null
    },
    {
      "cell_type": "markdown",
      "source": [
        "## 7. Education Requirements\n",
        "- **Bachelor's: 3,863**\n",
        "- **Master's: 3,688**\n",
        "- **Associate: 3,688**\n",
        "- **PhD: 3,761**  \n",
        "→ Bachelor's is dominant, but Master's and PhD remain valuable."
      ],
      "metadata": {
        "id": "dGW32NUraSCl"
      }
    },
    {
      "cell_type": "code",
      "source": [
        "df.groupby('education_required')['salary_usd'].mean()"
      ],
      "metadata": {
        "trusted": true,
        "execution": {
          "iopub.status.busy": "2025-09-03T18:39:24.006137Z",
          "iopub.execute_input": "2025-09-03T18:39:24.006485Z",
          "iopub.status.idle": "2025-09-03T18:39:24.016843Z",
          "shell.execute_reply.started": "2025-09-03T18:39:24.006461Z",
          "shell.execute_reply": "2025-09-03T18:39:24.015733Z"
        },
        "id": "_u-4qBxdaSCm"
      },
      "outputs": [],
      "execution_count": null
    },
    {
      "cell_type": "markdown",
      "source": [
        "## 8. Salary vs Education\n",
        "- Master's: ~$123K\n",
        "   \n",
        "- PhD: ~$119.7K\n",
        "\n",
        "  \n",
        "→ Master's degree tends to lead to higher pay compared to PhD."
      ],
      "metadata": {
        "id": "YLfJP1CWaSCm"
      }
    },
    {
      "cell_type": "code",
      "source": [
        "df.groupby('company_size')['salary_usd'].mean()"
      ],
      "metadata": {
        "id": "fa0bd8ca-6c00-48f5-b09f-ab73cd77e06a",
        "trusted": true,
        "execution": {
          "iopub.status.busy": "2025-09-03T17:16:20.049725Z",
          "iopub.execute_input": "2025-09-03T17:16:20.050143Z",
          "iopub.status.idle": "2025-09-03T17:16:20.070294Z",
          "shell.execute_reply.started": "2025-09-03T17:16:20.050118Z",
          "shell.execute_reply": "2025-09-03T17:16:20.069265Z"
        }
      },
      "outputs": [],
      "execution_count": null
    },
    {
      "cell_type": "markdown",
      "source": [
        "## 9. Salary vs Company Size\n",
        "- Large: ~$138K\n",
        "  \n",
        "- Medium: ~$118K\n",
        "\n",
        "- Small: ~$108K  \n",
        "→ Larger companies generally offer higher salaries."
      ],
      "metadata": {
        "id": "nV1UvDuXaSCm"
      }
    },
    {
      "cell_type": "code",
      "source": [
        "avg_salary_size = df.groupby('company_size')['salary_usd'].mean().sort_values()\n",
        "plt.figure(figsize=(6, 4))\n",
        "plt.bar(avg_salary_size.index, avg_salary_size.values, color=['gray', 'turquoise', 'purple'])\n",
        "plt.ylabel(\"Average Salary (USD)\")\n",
        "plt.title(\"Average Salary by Company Size\")\n",
        "plt.tight_layout()\n",
        "plt.show()\n"
      ],
      "metadata": {
        "trusted": true,
        "execution": {
          "iopub.status.busy": "2025-09-03T17:56:49.973439Z",
          "iopub.execute_input": "2025-09-03T17:56:49.973748Z",
          "iopub.status.idle": "2025-09-03T17:56:50.147619Z",
          "shell.execute_reply.started": "2025-09-03T17:56:49.973718Z",
          "shell.execute_reply": "2025-09-03T17:56:50.146698Z"
        },
        "id": "zOzsRawcaSCm"
      },
      "outputs": [],
      "execution_count": null
    },
    {
      "cell_type": "code",
      "source": [
        "df.groupby('company_name')['salary_usd'].mean()"
      ],
      "metadata": {
        "id": "8ea1f558-f1d9-4b9b-b189-7df3b2748237",
        "trusted": true,
        "execution": {
          "iopub.status.busy": "2025-09-03T17:16:19.880146Z",
          "iopub.execute_input": "2025-09-03T17:16:19.880462Z",
          "iopub.status.idle": "2025-09-03T17:16:19.911262Z",
          "shell.execute_reply.started": "2025-09-03T17:16:19.880437Z",
          "shell.execute_reply": "2025-09-03T17:16:19.909484Z"
        }
      },
      "outputs": [],
      "execution_count": null
    },
    {
      "cell_type": "code",
      "source": [
        "df.groupby('company_name').agg({\n",
        "    'salary_usd': 'mean',\n",
        "    'benefits_score': 'mean',\n",
        "    'remote_ratio': 'mean',\n",
        "    'company_size': 'first'\n",
        "}).sort_values(by='salary_usd', ascending=False)"
      ],
      "metadata": {
        "id": "d24f2870-288f-4412-ac4a-a6b72e2da178",
        "trusted": true,
        "execution": {
          "iopub.status.busy": "2025-09-03T17:16:20.01195Z",
          "iopub.execute_input": "2025-09-03T17:16:20.012415Z",
          "iopub.status.idle": "2025-09-03T17:16:20.036345Z",
          "shell.execute_reply.started": "2025-09-03T17:16:20.012384Z",
          "shell.execute_reply": "2025-09-03T17:16:20.035268Z"
        }
      },
      "outputs": [],
      "execution_count": null
    },
    {
      "cell_type": "code",
      "source": [
        "df.groupby('education_required')['salary_usd'].mean()\n"
      ],
      "metadata": {
        "id": "f289df23-487c-4dce-a5c2-7136bb174d47",
        "trusted": true,
        "execution": {
          "iopub.status.busy": "2025-09-03T17:16:20.071837Z",
          "iopub.execute_input": "2025-09-03T17:16:20.072439Z",
          "iopub.status.idle": "2025-09-03T17:16:20.09272Z",
          "shell.execute_reply.started": "2025-09-03T17:16:20.072402Z",
          "shell.execute_reply": "2025-09-03T17:16:20.091756Z"
        }
      },
      "outputs": [],
      "execution_count": null
    },
    {
      "cell_type": "code",
      "source": [
        "df['required_skills'].mode()[0]"
      ],
      "metadata": {
        "id": "03a5e870-d16d-4057-92c6-bacde3f932a1",
        "trusted": true,
        "execution": {
          "iopub.status.busy": "2025-09-03T17:16:20.133929Z",
          "iopub.execute_input": "2025-09-03T17:16:20.135013Z",
          "iopub.status.idle": "2025-09-03T17:16:20.160509Z",
          "shell.execute_reply.started": "2025-09-03T17:16:20.13498Z",
          "shell.execute_reply": "2025-09-03T17:16:20.159458Z"
        }
      },
      "outputs": [],
      "execution_count": null
    },
    {
      "cell_type": "code",
      "source": [
        "pivot_table = pd.pivot_table(df,\n",
        "    values='salary_usd',\n",
        "    index='industry',\n",
        "    columns='job_title',\n",
        "    aggfunc='count')\n",
        "pivot_table"
      ],
      "metadata": {
        "id": "ce976dc0-707a-45d9-b344-5a62afa452f3",
        "trusted": true,
        "execution": {
          "iopub.status.busy": "2025-09-03T17:16:20.162007Z",
          "iopub.execute_input": "2025-09-03T17:16:20.162443Z",
          "iopub.status.idle": "2025-09-03T17:16:20.205703Z",
          "shell.execute_reply.started": "2025-09-03T17:16:20.162408Z",
          "shell.execute_reply": "2025-09-03T17:16:20.203988Z"
        }
      },
      "outputs": [],
      "execution_count": null
    }
  ]
}