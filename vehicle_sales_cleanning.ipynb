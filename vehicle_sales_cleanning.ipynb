{
  "metadata": {
    "kernelspec": {
      "display_name": "Python 3 (ipykernel)",
      "language": "python",
      "name": "python3"
    },
    "language_info": {
      "name": "python",
      "version": "3.11.13",
      "mimetype": "text/x-python",
      "codemirror_mode": {
        "name": "ipython",
        "version": 3
      },
      "pygments_lexer": "ipython3",
      "nbconvert_exporter": "python",
      "file_extension": ".py"
    },
    "colab": {
      "provenance": [],
      "name": "vehicle-sales_cleanning"
    },
    "kaggle": {
      "accelerator": "none",
      "dataSources": [
        {
          "sourceId": 7673611,
          "sourceType": "datasetVersion",
          "datasetId": 4476093
        }
      ],
      "dockerImageVersionId": 31089,
      "isInternetEnabled": false,
      "language": "python",
      "sourceType": "notebook",
      "isGpuEnabled": false
    }
  },
  "nbformat_minor": 0,
  "nbformat": 4,
  "cells": [
    {
      "source": [
        "# IMPORTANT: RUN THIS CELL IN ORDER TO IMPORT YOUR KAGGLE DATA SOURCES,\n",
        "# THEN FEEL FREE TO DELETE THIS CELL.\n",
        "# NOTE: THIS NOTEBOOK ENVIRONMENT DIFFERS FROM KAGGLE'S PYTHON\n",
        "# ENVIRONMENT SO THERE MAY BE MISSING LIBRARIES USED BY YOUR\n",
        "# NOTEBOOK.\n",
        "import kagglehub\n",
        "syedanwarafridi_vehicle_sales_data_path = kagglehub.dataset_download('syedanwarafridi/vehicle-sales-data')\n",
        "\n",
        "print('Data source import complete.')\n"
      ],
      "metadata": {
        "id": "7fEj_NkzoXNK"
      },
      "cell_type": "code",
      "outputs": [],
      "execution_count": null
    },
    {
      "cell_type": "markdown",
      "source": [
        "# Vehicle Sales Data Cleaning\n",
        "\n",
        "## Overview\n",
        "This notebook focuses on **cleaning and logically restoring missing data** in a vehicle sales dataset.  \n",
        "Instead of using random or statistical imputation, we relied on **VIN-based inference** to recover the most accurate values possible.\n",
        "\n",
        "The main challenge was the **high number of missing values** in key columns such as:\n",
        "- `make`\n",
        "- `model`\n",
        "- `body`\n",
        "- `trim`\n",
        "- `transmission`\n",
        "\n",
        "## Approach & Missing Value Recovery\n",
        "\n",
        "Our strategy focused on **logical restoration**:\n",
        "\n",
        "- Created intermediate VIN-based features:  \n",
        "  - **`vin_pre`** (first 3 chars)  \n",
        "  - **`vin8`** (first 8 chars)  \n",
        "  - **`vin_3_4`** (positions 3–5)  \n",
        "  - **`vin_4_5`** (positions 4–6)  \n",
        "\n",
        "- Used these VIN segments to **map missing values** based on the most frequent combinations for each make and year.\n",
        "\n",
        "### Processed Columns\n",
        "\n",
        "- **make:** 10,301 → 0 (fully restored)\n",
        "- **model:** 10,399 → 69\n",
        "- **trim:** 10,651 → 911\n",
        "- **body:** 13,195 → 350\n",
        "- **transmission:** 65,356 → 224\n",
        "\n",
        "### Columns Left Unchanged\n",
        "\n",
        "Columns like **color, interior, condition, mmr, seller, state, saledate, and odometer**  \n",
        "were kept unchanged when **no reliable mapping** was available.\n",
        "\n",
        "## Results\n",
        "\n",
        "Below is the **before vs after** missing value reduction:\n",
        "\n",
        "| Column        | Before   | After  |\n",
        "|---------------|----------|--------|\n",
        "| year          | 0        | 0      |\n",
        "| make          | 10301    | 0      |\n",
        "| model         | 10399    | 69     |\n",
        "| trim          | 10651    | 911    |\n",
        "| body          | 13195    | 350    |\n",
        "| transmission  | 65356    | 224    |\n",
        "| vin           | 0        | 0      |\n",
        "| state         | 26       | 26     |\n",
        "| condition     | 11794    | 11794  |\n",
        "| odometer      | 94       | 94     |\n",
        "| color         | 749      | 749    |\n",
        "| interior      | 749      | 749    |\n",
        "| seller        | 26       | 26     |\n",
        "| mmr           | 12       | 12     |\n",
        "| sellingprice  | 12       | 12     |\n",
        "| saledate      | 38       | 38     |\n",
        "\n",
        "## Key Takeaway\n",
        "\n",
        "This cleaning process:\n",
        "- **Significantly improved dataset usability** for modeling.  \n",
        "- Preserved **data integrity by avoiding random imputation**.  \n",
        "- Focused on **logical, VIN-based restoration techniques**.\n"
      ],
      "metadata": {
        "id": "loWzjIm-oXNL"
      }
    },
    {
      "cell_type": "markdown",
      "source": [
        "## Vehicle Sales Data Cleaning – Logical Missing Value Handling\n",
        "\n",
        "This notebook demonstrates a VIN-based strategy to recover missing values logically,\n",
        "focusing on key columns: `make`, `model`, `trim`, `body`, and `transmission`.\n"
      ],
      "metadata": {
        "id": "U8CGvm59oXNM"
      }
    },
    {
      "cell_type": "markdown",
      "source": [
        "# 1. Imports & Setup"
      ],
      "metadata": {
        "id": "My50q953oXNM"
      }
    },
    {
      "cell_type": "code",
      "source": [
        "import pandas as pd\n",
        "import numpy as np"
      ],
      "metadata": {
        "trusted": true,
        "execution": {
          "iopub.status.busy": "2025-09-03T15:33:00.889055Z",
          "iopub.execute_input": "2025-09-03T15:33:00.889402Z",
          "iopub.status.idle": "2025-09-03T15:33:00.894689Z",
          "shell.execute_reply.started": "2025-09-03T15:33:00.889378Z",
          "shell.execute_reply": "2025-09-03T15:33:00.893421Z"
        },
        "id": "KCc8vyZKoXNN"
      },
      "outputs": [],
      "execution_count": null
    },
    {
      "cell_type": "markdown",
      "source": [
        "# 2. Load Data"
      ],
      "metadata": {
        "id": "KTpbby21oXNN"
      }
    },
    {
      "cell_type": "code",
      "source": [
        "df = pd.read_csv('/kaggle/input/vehicle-sales-data/car_prices.csv')\n",
        "print(df.shape)\n",
        "df.describe(include = 'O')"
      ],
      "metadata": {
        "id": "04857a4c-d1ae-45be-b733-af93f80acc3e",
        "outputId": "d1a4c09c-2e3a-4a95-ae12-e21576b8c97b",
        "trusted": true,
        "execution": {
          "iopub.status.busy": "2025-09-03T15:33:00.966356Z",
          "iopub.execute_input": "2025-09-03T15:33:00.966682Z",
          "iopub.status.idle": "2025-09-03T15:33:04.737911Z",
          "shell.execute_reply.started": "2025-09-03T15:33:00.966659Z",
          "shell.execute_reply": "2025-09-03T15:33:04.736905Z"
        }
      },
      "outputs": [
        {
          "name": "stdout",
          "text": "(558837, 16)\n",
          "output_type": "stream"
        },
        {
          "execution_count": 291,
          "output_type": "execute_result",
          "data": {
            "text/plain": "          make   model    trim    body transmission        vin   state  \\\ncount   548536  548438  548186  545642       493485     558833  558837   \nunique      96     973    1963      87            4     550297      64   \ntop       Ford  Altima    Base   Sedan    automatic  automatic      fl   \nfreq     93554   19349   55817  199437       475915         22   82945   \n\n         color interior              seller  \\\ncount   558088   558088              558837   \nunique      46       17               14263   \ntop      black    black  nissan-infiniti lt   \nfreq    110970   244329               19693   \n\n                                       saledate  \ncount                                    558825  \nunique                                     3766  \ntop     Tue Feb 10 2015 01:30:00 GMT-0800 (PST)  \nfreq                                       5334  ",
            "text/html": "<div>\n<style scoped>\n    .dataframe tbody tr th:only-of-type {\n        vertical-align: middle;\n    }\n\n    .dataframe tbody tr th {\n        vertical-align: top;\n    }\n\n    .dataframe thead th {\n        text-align: right;\n    }\n</style>\n<table border=\"1\" class=\"dataframe\">\n  <thead>\n    <tr style=\"text-align: right;\">\n      <th></th>\n      <th>make</th>\n      <th>model</th>\n      <th>trim</th>\n      <th>body</th>\n      <th>transmission</th>\n      <th>vin</th>\n      <th>state</th>\n      <th>color</th>\n      <th>interior</th>\n      <th>seller</th>\n      <th>saledate</th>\n    </tr>\n  </thead>\n  <tbody>\n    <tr>\n      <th>count</th>\n      <td>548536</td>\n      <td>548438</td>\n      <td>548186</td>\n      <td>545642</td>\n      <td>493485</td>\n      <td>558833</td>\n      <td>558837</td>\n      <td>558088</td>\n      <td>558088</td>\n      <td>558837</td>\n      <td>558825</td>\n    </tr>\n    <tr>\n      <th>unique</th>\n      <td>96</td>\n      <td>973</td>\n      <td>1963</td>\n      <td>87</td>\n      <td>4</td>\n      <td>550297</td>\n      <td>64</td>\n      <td>46</td>\n      <td>17</td>\n      <td>14263</td>\n      <td>3766</td>\n    </tr>\n    <tr>\n      <th>top</th>\n      <td>Ford</td>\n      <td>Altima</td>\n      <td>Base</td>\n      <td>Sedan</td>\n      <td>automatic</td>\n      <td>automatic</td>\n      <td>fl</td>\n      <td>black</td>\n      <td>black</td>\n      <td>nissan-infiniti lt</td>\n      <td>Tue Feb 10 2015 01:30:00 GMT-0800 (PST)</td>\n    </tr>\n    <tr>\n      <th>freq</th>\n      <td>93554</td>\n      <td>19349</td>\n      <td>55817</td>\n      <td>199437</td>\n      <td>475915</td>\n      <td>22</td>\n      <td>82945</td>\n      <td>110970</td>\n      <td>244329</td>\n      <td>19693</td>\n      <td>5334</td>\n    </tr>\n  </tbody>\n</table>\n</div>"
          },
          "metadata": {}
        }
      ],
      "execution_count": null
    },
    {
      "cell_type": "code",
      "source": [
        "df.head()"
      ],
      "metadata": {
        "id": "d84efad4-86f7-4798-93f1-37e77b9a2fa6",
        "outputId": "cd7ab938-4631-4a5b-d6b7-e955ff7daf82",
        "trusted": true,
        "execution": {
          "iopub.status.busy": "2025-09-03T15:33:04.73939Z",
          "iopub.execute_input": "2025-09-03T15:33:04.739675Z",
          "iopub.status.idle": "2025-09-03T15:33:04.755292Z",
          "shell.execute_reply.started": "2025-09-03T15:33:04.739653Z",
          "shell.execute_reply": "2025-09-03T15:33:04.754387Z"
        }
      },
      "outputs": [
        {
          "execution_count": 292,
          "output_type": "execute_result",
          "data": {
            "text/plain": "   year   make                model        trim   body transmission  \\\n0  2015    Kia              Sorento          LX    SUV    automatic   \n1  2015    Kia              Sorento          LX    SUV    automatic   \n2  2014    BMW             3 Series  328i SULEV  Sedan    automatic   \n3  2015  Volvo                  S60          T5  Sedan    automatic   \n4  2014    BMW  6 Series Gran Coupe        650i  Sedan    automatic   \n\n                 vin state  condition  odometer  color interior  \\\n0  5xyktca69fg566472    ca        5.0   16639.0  white    black   \n1  5xyktca69fg561319    ca        5.0    9393.0  white    beige   \n2  wba3c1c51ek116351    ca       45.0    1331.0   gray    black   \n3  yv1612tb4f1310987    ca       41.0   14282.0  white    black   \n4  wba6b2c57ed129731    ca       43.0    2641.0   gray    black   \n\n                                   seller      mmr  sellingprice  \\\n0                 kia motors america  inc  20500.0       21500.0   \n1                 kia motors america  inc  20800.0       21500.0   \n2  financial services remarketing (lease)  31900.0       30000.0   \n3                 volvo na rep/world omni  27500.0       27750.0   \n4  financial services remarketing (lease)  66000.0       67000.0   \n\n                                  saledate  \n0  Tue Dec 16 2014 12:30:00 GMT-0800 (PST)  \n1  Tue Dec 16 2014 12:30:00 GMT-0800 (PST)  \n2  Thu Jan 15 2015 04:30:00 GMT-0800 (PST)  \n3  Thu Jan 29 2015 04:30:00 GMT-0800 (PST)  \n4  Thu Dec 18 2014 12:30:00 GMT-0800 (PST)  ",
            "text/html": "<div>\n<style scoped>\n    .dataframe tbody tr th:only-of-type {\n        vertical-align: middle;\n    }\n\n    .dataframe tbody tr th {\n        vertical-align: top;\n    }\n\n    .dataframe thead th {\n        text-align: right;\n    }\n</style>\n<table border=\"1\" class=\"dataframe\">\n  <thead>\n    <tr style=\"text-align: right;\">\n      <th></th>\n      <th>year</th>\n      <th>make</th>\n      <th>model</th>\n      <th>trim</th>\n      <th>body</th>\n      <th>transmission</th>\n      <th>vin</th>\n      <th>state</th>\n      <th>condition</th>\n      <th>odometer</th>\n      <th>color</th>\n      <th>interior</th>\n      <th>seller</th>\n      <th>mmr</th>\n      <th>sellingprice</th>\n      <th>saledate</th>\n    </tr>\n  </thead>\n  <tbody>\n    <tr>\n      <th>0</th>\n      <td>2015</td>\n      <td>Kia</td>\n      <td>Sorento</td>\n      <td>LX</td>\n      <td>SUV</td>\n      <td>automatic</td>\n      <td>5xyktca69fg566472</td>\n      <td>ca</td>\n      <td>5.0</td>\n      <td>16639.0</td>\n      <td>white</td>\n      <td>black</td>\n      <td>kia motors america  inc</td>\n      <td>20500.0</td>\n      <td>21500.0</td>\n      <td>Tue Dec 16 2014 12:30:00 GMT-0800 (PST)</td>\n    </tr>\n    <tr>\n      <th>1</th>\n      <td>2015</td>\n      <td>Kia</td>\n      <td>Sorento</td>\n      <td>LX</td>\n      <td>SUV</td>\n      <td>automatic</td>\n      <td>5xyktca69fg561319</td>\n      <td>ca</td>\n      <td>5.0</td>\n      <td>9393.0</td>\n      <td>white</td>\n      <td>beige</td>\n      <td>kia motors america  inc</td>\n      <td>20800.0</td>\n      <td>21500.0</td>\n      <td>Tue Dec 16 2014 12:30:00 GMT-0800 (PST)</td>\n    </tr>\n    <tr>\n      <th>2</th>\n      <td>2014</td>\n      <td>BMW</td>\n      <td>3 Series</td>\n      <td>328i SULEV</td>\n      <td>Sedan</td>\n      <td>automatic</td>\n      <td>wba3c1c51ek116351</td>\n      <td>ca</td>\n      <td>45.0</td>\n      <td>1331.0</td>\n      <td>gray</td>\n      <td>black</td>\n      <td>financial services remarketing (lease)</td>\n      <td>31900.0</td>\n      <td>30000.0</td>\n      <td>Thu Jan 15 2015 04:30:00 GMT-0800 (PST)</td>\n    </tr>\n    <tr>\n      <th>3</th>\n      <td>2015</td>\n      <td>Volvo</td>\n      <td>S60</td>\n      <td>T5</td>\n      <td>Sedan</td>\n      <td>automatic</td>\n      <td>yv1612tb4f1310987</td>\n      <td>ca</td>\n      <td>41.0</td>\n      <td>14282.0</td>\n      <td>white</td>\n      <td>black</td>\n      <td>volvo na rep/world omni</td>\n      <td>27500.0</td>\n      <td>27750.0</td>\n      <td>Thu Jan 29 2015 04:30:00 GMT-0800 (PST)</td>\n    </tr>\n    <tr>\n      <th>4</th>\n      <td>2014</td>\n      <td>BMW</td>\n      <td>6 Series Gran Coupe</td>\n      <td>650i</td>\n      <td>Sedan</td>\n      <td>automatic</td>\n      <td>wba6b2c57ed129731</td>\n      <td>ca</td>\n      <td>43.0</td>\n      <td>2641.0</td>\n      <td>gray</td>\n      <td>black</td>\n      <td>financial services remarketing (lease)</td>\n      <td>66000.0</td>\n      <td>67000.0</td>\n      <td>Thu Dec 18 2014 12:30:00 GMT-0800 (PST)</td>\n    </tr>\n  </tbody>\n</table>\n</div>"
          },
          "metadata": {}
        }
      ],
      "execution_count": null
    },
    {
      "cell_type": "code",
      "source": [
        "df['vin_3_4'] = df['vin'].str[3:5]\n",
        "df['vin_pre'] = df['vin'].str[:3]\n",
        "df[\"vin8\"] = df['vin'].str[:8]\n",
        "df['vin_4_5'] = df['vin'].str[3:6]"
      ],
      "metadata": {
        "trusted": true,
        "execution": {
          "iopub.status.busy": "2025-09-03T15:33:04.75624Z",
          "iopub.execute_input": "2025-09-03T15:33:04.756556Z",
          "iopub.status.idle": "2025-09-03T15:33:05.179547Z",
          "shell.execute_reply.started": "2025-09-03T15:33:04.756529Z",
          "shell.execute_reply": "2025-09-03T15:33:05.178524Z"
        },
        "id": "DzlWm7T0oXNO"
      },
      "outputs": [],
      "execution_count": null
    },
    {
      "cell_type": "markdown",
      "source": [
        "# 3. Data Cleaning & Preprocessing"
      ],
      "metadata": {
        "id": "xe19KDI8oXNO"
      }
    },
    {
      "cell_type": "markdown",
      "source": [
        "## Initial Preprocessing"
      ],
      "metadata": {
        "id": "9-i6Qg80oXNO"
      }
    },
    {
      "cell_type": "code",
      "source": [
        "to_lower = df.select_dtypes(include = 'object').columns\n",
        "df[to_lower] = df[to_lower].apply(lambda x: x.str.strip().str.lower())\n",
        "#cols to lower case"
      ],
      "metadata": {
        "id": "33759c1c-433f-4f8f-aeec-40a23095a287",
        "trusted": true,
        "execution": {
          "iopub.status.busy": "2025-09-03T15:33:05.181821Z",
          "iopub.execute_input": "2025-09-03T15:33:05.182577Z",
          "iopub.status.idle": "2025-09-03T15:33:08.395197Z",
          "shell.execute_reply.started": "2025-09-03T15:33:05.182547Z",
          "shell.execute_reply": "2025-09-03T15:33:08.394163Z"
        }
      },
      "outputs": [],
      "execution_count": null
    },
    {
      "cell_type": "code",
      "source": [
        "shifted = df['vin'].str.len() != 17\n",
        "df[shifted]\n",
        "# the rows are shifted"
      ],
      "metadata": {
        "scrolled": true,
        "id": "368a1142-7343-44e5-b44e-4fc21895bbba",
        "outputId": "853d0570-a5fc-47d4-d4d6-1c600c4e2005",
        "trusted": true,
        "execution": {
          "iopub.status.busy": "2025-09-03T15:33:08.396165Z",
          "iopub.execute_input": "2025-09-03T15:33:08.396454Z",
          "iopub.status.idle": "2025-09-03T15:33:08.586597Z",
          "shell.execute_reply.started": "2025-09-03T15:33:08.396433Z",
          "shell.execute_reply": "2025-09-03T15:33:08.585527Z"
        }
      },
      "outputs": [
        {
          "name": "stderr",
          "text": "/usr/local/lib/python3.11/dist-packages/pandas/io/formats/format.py:1458: RuntimeWarning: invalid value encountered in greater\n  has_large_values = (abs_vals > 1e6).any()\n/usr/local/lib/python3.11/dist-packages/pandas/io/formats/format.py:1459: RuntimeWarning: invalid value encountered in less\n  has_small_values = ((abs_vals < 10 ** (-self.digits)) & (abs_vals > 0)).any()\n/usr/local/lib/python3.11/dist-packages/pandas/io/formats/format.py:1459: RuntimeWarning: invalid value encountered in greater\n  has_small_values = ((abs_vals < 10 ** (-self.digits)) & (abs_vals > 0)).any()\n",
          "output_type": "stream"
        },
        {
          "execution_count": 295,
          "output_type": "execute_result",
          "data": {
            "text/plain": "        year        make  model                    trim         body  \\\n408161  2015  volkswagen  jetta  se pzev w/connectivity  navitgation   \n417835  2015  volkswagen  jetta  se pzev w/connectivity  navitgation   \n421289  2015  volkswagen  jetta  se pzev w/connectivity  navitgation   \n424161  2015  volkswagen  jetta  se pzev w/connectivity  navitgation   \n427040  2015  volkswagen  jetta  se pzev w/connectivity  navitgation   \n427043  2015  volkswagen  jetta  se pzev w/connectivity  navitgation   \n434424  2015  volkswagen  jetta  se pzev w/connectivity  navitgation   \n444501  2015  volkswagen  jetta  se pzev w/connectivity  navitgation   \n453794  2015  volkswagen  jetta  se pzev w/connectivity  navitgation   \n461597  2015  volkswagen  jetta  se pzev w/connectivity  navitgation   \n461612  2015  volkswagen  jetta  se pzev w/connectivity  navitgation   \n492484  2015  volkswagen  jetta  se pzev w/connectivity  navitgation   \n497008  2015  volkswagen  jetta  se pzev w/connectivity  navitgation   \n497011  2015  volkswagen  jetta  se pzev w/connectivity  navitgation   \n499083  2015  volkswagen  jetta  se pzev w/connectivity  navitgation   \n501455  2015  volkswagen  jetta  se pzev w/connectivity  navitgation   \n505299  2015  volkswagen  jetta  se pzev w/connectivity  navitgation   \n505306  2015  volkswagen  jetta  se pzev w/connectivity  navitgation   \n520461  2015  volkswagen  jetta  se pzev w/connectivity  navitgation   \n528996  2015  volkswagen  jetta  se pzev w/connectivity  navitgation   \n529009  2015  volkswagen  jetta  se pzev w/connectivity  navitgation   \n529013  2015  volkswagen  jetta  se pzev w/connectivity  navitgation   \n529622  2015  volkswagen  jetta  se pzev w/connectivity  navitgation   \n548784  2015  volkswagen  jetta  se pzev w/connectivity  navitgation   \n551222  2015  volkswagen  jetta  se pzev w/connectivity  navitgation   \n554710  2015  volkswagen  jetta  se pzev w/connectivity  navitgation   \n\n       transmission        vin              state  condition  odometer  color  \\\n408161        sedan  automatic  3vwd17aj4fm201708        NaN      46.0   4802   \n417835        sedan  automatic  3vwd17aj2fm258506        NaN       1.0   9410   \n421289        sedan  automatic  3vwd17aj3fm276741        NaN      46.0   1167   \n424161        sedan  automatic  3vwd17aj2fm285365        NaN       1.0   2172   \n427040        sedan  automatic  3vwd17aj0fm227318        NaN      41.0  14872   \n427043        sedan  automatic  3vwd17aj6fm218641        NaN      49.0  12655   \n434424        sedan  automatic  3vwd17aj7fm223475        NaN      46.0  15719   \n444501        sedan  automatic  3vwd17aj5fm297123        NaN       2.0   6388   \n453794        sedan  automatic  3vwd17aj5fm219943        NaN      44.0  16633   \n461597        sedan  automatic  3vwd17aj9fm219766        NaN      44.0  11034   \n461612        sedan        NaN  3vwd17aj3fm259017        NaN      46.0   2711   \n492484        sedan  automatic  3vwd17aj5fm206111        NaN       2.0   6864   \n497008        sedan  automatic  3vwd17aj5fm273601        NaN      28.0    339   \n497011        sedan  automatic  3vwd17aj5fm221322        NaN      48.0  18384   \n499083        sedan  automatic  3vwd17aj5fm268964        NaN       2.0   9887   \n501455        sedan  automatic  3vwd17aj6fm231972        NaN      38.0   9837   \n505299        sedan        NaN  3vwd17aj7fm222388        NaN      36.0  20379   \n505306        sedan  automatic  3vwd17aj7fm218440        NaN      42.0  20627   \n520461        sedan  automatic  3vwd17ajxfm315938        NaN       1.0    721   \n528996        sedan  automatic  3vwd17aj7fm229552        NaN      38.0   6158   \n529009        sedan        NaN  3vwd17aj8fm298895        NaN       2.0   2817   \n529013        sedan  automatic  3vwd17aj4fm236636        NaN       5.0   5705   \n529622        sedan  automatic  3vwd17aj5fm225953        NaN      41.0  18561   \n548784        sedan  automatic  3vwd17aj7fm326640        NaN       2.0   2846   \n551222        sedan        NaN  3vwd17aj8fm239622        NaN       2.0   9562   \n554710        sedan  automatic  3vwd17aj2fm261566        NaN      48.0   5001   \n\n       interior seller  mmr  sellingprice saledate vin_3_4 vin_pre      vin8  \\\n408161   silver   gray  NaN       13200.0    16500      om     aut  automati   \n417835    white   gray  NaN       13300.0    10500      om     aut  automati   \n421289     blue  black  NaN       13200.0    12700      om     aut  automati   \n424161     gray  black  NaN       14050.0     8250      om     aut  automati   \n427040     gray  black  NaN       13700.0    14300      om     aut  automati   \n427043      red  black  NaN       13850.0    14500      om     aut  automati   \n434424     blue  black  NaN       13650.0    13500      om     aut  automati   \n444501    white  black  NaN       13850.0    10700      om     aut  automati   \n453794   silver  black  NaN       13600.0    13600      om     aut  automati   \n461597    black  black  NaN       13900.0    13000      om     aut  automati   \n461612    white  black  NaN       14250.0    14000     NaN     NaN       NaN   \n492484     gray  black  NaN       14000.0     9800      om     aut  automati   \n497008    black  black  NaN       14300.0    12900      om     aut  automati   \n497011   silver  black  NaN       13550.0    13500      om     aut  automati   \n499083      red  black  NaN       13900.0     9900      om     aut  automati   \n501455      red  black  NaN       13500.0    12900      om     aut  automati   \n505299   silver  black  NaN       13600.0    13500     NaN     NaN       NaN   \n505306    white  black  NaN       13600.0    13500      om     aut  automati   \n520461     blue   gray  NaN       14100.0     8500      om     aut  automati   \n528996    black  black  NaN       13650.0    13400      om     aut  automati   \n529009      red  black  NaN       13750.0    12200     NaN     NaN       NaN   \n529013        —  black  NaN       13400.0    15250      om     aut  automati   \n529622    black  black  NaN       13200.0    13100      om     aut  automati   \n548784     blue  black  NaN       13600.0     7500      om     aut  automati   \n551222   silver  black  NaN       13200.0    12100     NaN     NaN       NaN   \n554710     blue   gray  NaN       13400.0    13600      om     aut  automati   \n\n       vin_4_5  \n408161     oma  \n417835     oma  \n421289     oma  \n424161     oma  \n427040     oma  \n427043     oma  \n434424     oma  \n444501     oma  \n453794     oma  \n461597     oma  \n461612     NaN  \n492484     oma  \n497008     oma  \n497011     oma  \n499083     oma  \n501455     oma  \n505299     NaN  \n505306     oma  \n520461     oma  \n528996     oma  \n529009     NaN  \n529013     oma  \n529622     oma  \n548784     oma  \n551222     NaN  \n554710     oma  ",
            "text/html": "<div>\n<style scoped>\n    .dataframe tbody tr th:only-of-type {\n        vertical-align: middle;\n    }\n\n    .dataframe tbody tr th {\n        vertical-align: top;\n    }\n\n    .dataframe thead th {\n        text-align: right;\n    }\n</style>\n<table border=\"1\" class=\"dataframe\">\n  <thead>\n    <tr style=\"text-align: right;\">\n      <th></th>\n      <th>year</th>\n      <th>make</th>\n      <th>model</th>\n      <th>trim</th>\n      <th>body</th>\n      <th>transmission</th>\n      <th>vin</th>\n      <th>state</th>\n      <th>condition</th>\n      <th>odometer</th>\n      <th>color</th>\n      <th>interior</th>\n      <th>seller</th>\n      <th>mmr</th>\n      <th>sellingprice</th>\n      <th>saledate</th>\n      <th>vin_3_4</th>\n      <th>vin_pre</th>\n      <th>vin8</th>\n      <th>vin_4_5</th>\n    </tr>\n  </thead>\n  <tbody>\n    <tr>\n      <th>408161</th>\n      <td>2015</td>\n      <td>volkswagen</td>\n      <td>jetta</td>\n      <td>se pzev w/connectivity</td>\n      <td>navitgation</td>\n      <td>sedan</td>\n      <td>automatic</td>\n      <td>3vwd17aj4fm201708</td>\n      <td>NaN</td>\n      <td>46.0</td>\n      <td>4802</td>\n      <td>silver</td>\n      <td>gray</td>\n      <td>NaN</td>\n      <td>13200.0</td>\n      <td>16500</td>\n      <td>om</td>\n      <td>aut</td>\n      <td>automati</td>\n      <td>oma</td>\n    </tr>\n    <tr>\n      <th>417835</th>\n      <td>2015</td>\n      <td>volkswagen</td>\n      <td>jetta</td>\n      <td>se pzev w/connectivity</td>\n      <td>navitgation</td>\n      <td>sedan</td>\n      <td>automatic</td>\n      <td>3vwd17aj2fm258506</td>\n      <td>NaN</td>\n      <td>1.0</td>\n      <td>9410</td>\n      <td>white</td>\n      <td>gray</td>\n      <td>NaN</td>\n      <td>13300.0</td>\n      <td>10500</td>\n      <td>om</td>\n      <td>aut</td>\n      <td>automati</td>\n      <td>oma</td>\n    </tr>\n    <tr>\n      <th>421289</th>\n      <td>2015</td>\n      <td>volkswagen</td>\n      <td>jetta</td>\n      <td>se pzev w/connectivity</td>\n      <td>navitgation</td>\n      <td>sedan</td>\n      <td>automatic</td>\n      <td>3vwd17aj3fm276741</td>\n      <td>NaN</td>\n      <td>46.0</td>\n      <td>1167</td>\n      <td>blue</td>\n      <td>black</td>\n      <td>NaN</td>\n      <td>13200.0</td>\n      <td>12700</td>\n      <td>om</td>\n      <td>aut</td>\n      <td>automati</td>\n      <td>oma</td>\n    </tr>\n    <tr>\n      <th>424161</th>\n      <td>2015</td>\n      <td>volkswagen</td>\n      <td>jetta</td>\n      <td>se pzev w/connectivity</td>\n      <td>navitgation</td>\n      <td>sedan</td>\n      <td>automatic</td>\n      <td>3vwd17aj2fm285365</td>\n      <td>NaN</td>\n      <td>1.0</td>\n      <td>2172</td>\n      <td>gray</td>\n      <td>black</td>\n      <td>NaN</td>\n      <td>14050.0</td>\n      <td>8250</td>\n      <td>om</td>\n      <td>aut</td>\n      <td>automati</td>\n      <td>oma</td>\n    </tr>\n    <tr>\n      <th>427040</th>\n      <td>2015</td>\n      <td>volkswagen</td>\n      <td>jetta</td>\n      <td>se pzev w/connectivity</td>\n      <td>navitgation</td>\n      <td>sedan</td>\n      <td>automatic</td>\n      <td>3vwd17aj0fm227318</td>\n      <td>NaN</td>\n      <td>41.0</td>\n      <td>14872</td>\n      <td>gray</td>\n      <td>black</td>\n      <td>NaN</td>\n      <td>13700.0</td>\n      <td>14300</td>\n      <td>om</td>\n      <td>aut</td>\n      <td>automati</td>\n      <td>oma</td>\n    </tr>\n    <tr>\n      <th>427043</th>\n      <td>2015</td>\n      <td>volkswagen</td>\n      <td>jetta</td>\n      <td>se pzev w/connectivity</td>\n      <td>navitgation</td>\n      <td>sedan</td>\n      <td>automatic</td>\n      <td>3vwd17aj6fm218641</td>\n      <td>NaN</td>\n      <td>49.0</td>\n      <td>12655</td>\n      <td>red</td>\n      <td>black</td>\n      <td>NaN</td>\n      <td>13850.0</td>\n      <td>14500</td>\n      <td>om</td>\n      <td>aut</td>\n      <td>automati</td>\n      <td>oma</td>\n    </tr>\n    <tr>\n      <th>434424</th>\n      <td>2015</td>\n      <td>volkswagen</td>\n      <td>jetta</td>\n      <td>se pzev w/connectivity</td>\n      <td>navitgation</td>\n      <td>sedan</td>\n      <td>automatic</td>\n      <td>3vwd17aj7fm223475</td>\n      <td>NaN</td>\n      <td>46.0</td>\n      <td>15719</td>\n      <td>blue</td>\n      <td>black</td>\n      <td>NaN</td>\n      <td>13650.0</td>\n      <td>13500</td>\n      <td>om</td>\n      <td>aut</td>\n      <td>automati</td>\n      <td>oma</td>\n    </tr>\n    <tr>\n      <th>444501</th>\n      <td>2015</td>\n      <td>volkswagen</td>\n      <td>jetta</td>\n      <td>se pzev w/connectivity</td>\n      <td>navitgation</td>\n      <td>sedan</td>\n      <td>automatic</td>\n      <td>3vwd17aj5fm297123</td>\n      <td>NaN</td>\n      <td>2.0</td>\n      <td>6388</td>\n      <td>white</td>\n      <td>black</td>\n      <td>NaN</td>\n      <td>13850.0</td>\n      <td>10700</td>\n      <td>om</td>\n      <td>aut</td>\n      <td>automati</td>\n      <td>oma</td>\n    </tr>\n    <tr>\n      <th>453794</th>\n      <td>2015</td>\n      <td>volkswagen</td>\n      <td>jetta</td>\n      <td>se pzev w/connectivity</td>\n      <td>navitgation</td>\n      <td>sedan</td>\n      <td>automatic</td>\n      <td>3vwd17aj5fm219943</td>\n      <td>NaN</td>\n      <td>44.0</td>\n      <td>16633</td>\n      <td>silver</td>\n      <td>black</td>\n      <td>NaN</td>\n      <td>13600.0</td>\n      <td>13600</td>\n      <td>om</td>\n      <td>aut</td>\n      <td>automati</td>\n      <td>oma</td>\n    </tr>\n    <tr>\n      <th>461597</th>\n      <td>2015</td>\n      <td>volkswagen</td>\n      <td>jetta</td>\n      <td>se pzev w/connectivity</td>\n      <td>navitgation</td>\n      <td>sedan</td>\n      <td>automatic</td>\n      <td>3vwd17aj9fm219766</td>\n      <td>NaN</td>\n      <td>44.0</td>\n      <td>11034</td>\n      <td>black</td>\n      <td>black</td>\n      <td>NaN</td>\n      <td>13900.0</td>\n      <td>13000</td>\n      <td>om</td>\n      <td>aut</td>\n      <td>automati</td>\n      <td>oma</td>\n    </tr>\n    <tr>\n      <th>461612</th>\n      <td>2015</td>\n      <td>volkswagen</td>\n      <td>jetta</td>\n      <td>se pzev w/connectivity</td>\n      <td>navitgation</td>\n      <td>sedan</td>\n      <td>NaN</td>\n      <td>3vwd17aj3fm259017</td>\n      <td>NaN</td>\n      <td>46.0</td>\n      <td>2711</td>\n      <td>white</td>\n      <td>black</td>\n      <td>NaN</td>\n      <td>14250.0</td>\n      <td>14000</td>\n      <td>NaN</td>\n      <td>NaN</td>\n      <td>NaN</td>\n      <td>NaN</td>\n    </tr>\n    <tr>\n      <th>492484</th>\n      <td>2015</td>\n      <td>volkswagen</td>\n      <td>jetta</td>\n      <td>se pzev w/connectivity</td>\n      <td>navitgation</td>\n      <td>sedan</td>\n      <td>automatic</td>\n      <td>3vwd17aj5fm206111</td>\n      <td>NaN</td>\n      <td>2.0</td>\n      <td>6864</td>\n      <td>gray</td>\n      <td>black</td>\n      <td>NaN</td>\n      <td>14000.0</td>\n      <td>9800</td>\n      <td>om</td>\n      <td>aut</td>\n      <td>automati</td>\n      <td>oma</td>\n    </tr>\n    <tr>\n      <th>497008</th>\n      <td>2015</td>\n      <td>volkswagen</td>\n      <td>jetta</td>\n      <td>se pzev w/connectivity</td>\n      <td>navitgation</td>\n      <td>sedan</td>\n      <td>automatic</td>\n      <td>3vwd17aj5fm273601</td>\n      <td>NaN</td>\n      <td>28.0</td>\n      <td>339</td>\n      <td>black</td>\n      <td>black</td>\n      <td>NaN</td>\n      <td>14300.0</td>\n      <td>12900</td>\n      <td>om</td>\n      <td>aut</td>\n      <td>automati</td>\n      <td>oma</td>\n    </tr>\n    <tr>\n      <th>497011</th>\n      <td>2015</td>\n      <td>volkswagen</td>\n      <td>jetta</td>\n      <td>se pzev w/connectivity</td>\n      <td>navitgation</td>\n      <td>sedan</td>\n      <td>automatic</td>\n      <td>3vwd17aj5fm221322</td>\n      <td>NaN</td>\n      <td>48.0</td>\n      <td>18384</td>\n      <td>silver</td>\n      <td>black</td>\n      <td>NaN</td>\n      <td>13550.0</td>\n      <td>13500</td>\n      <td>om</td>\n      <td>aut</td>\n      <td>automati</td>\n      <td>oma</td>\n    </tr>\n    <tr>\n      <th>499083</th>\n      <td>2015</td>\n      <td>volkswagen</td>\n      <td>jetta</td>\n      <td>se pzev w/connectivity</td>\n      <td>navitgation</td>\n      <td>sedan</td>\n      <td>automatic</td>\n      <td>3vwd17aj5fm268964</td>\n      <td>NaN</td>\n      <td>2.0</td>\n      <td>9887</td>\n      <td>red</td>\n      <td>black</td>\n      <td>NaN</td>\n      <td>13900.0</td>\n      <td>9900</td>\n      <td>om</td>\n      <td>aut</td>\n      <td>automati</td>\n      <td>oma</td>\n    </tr>\n    <tr>\n      <th>501455</th>\n      <td>2015</td>\n      <td>volkswagen</td>\n      <td>jetta</td>\n      <td>se pzev w/connectivity</td>\n      <td>navitgation</td>\n      <td>sedan</td>\n      <td>automatic</td>\n      <td>3vwd17aj6fm231972</td>\n      <td>NaN</td>\n      <td>38.0</td>\n      <td>9837</td>\n      <td>red</td>\n      <td>black</td>\n      <td>NaN</td>\n      <td>13500.0</td>\n      <td>12900</td>\n      <td>om</td>\n      <td>aut</td>\n      <td>automati</td>\n      <td>oma</td>\n    </tr>\n    <tr>\n      <th>505299</th>\n      <td>2015</td>\n      <td>volkswagen</td>\n      <td>jetta</td>\n      <td>se pzev w/connectivity</td>\n      <td>navitgation</td>\n      <td>sedan</td>\n      <td>NaN</td>\n      <td>3vwd17aj7fm222388</td>\n      <td>NaN</td>\n      <td>36.0</td>\n      <td>20379</td>\n      <td>silver</td>\n      <td>black</td>\n      <td>NaN</td>\n      <td>13600.0</td>\n      <td>13500</td>\n      <td>NaN</td>\n      <td>NaN</td>\n      <td>NaN</td>\n      <td>NaN</td>\n    </tr>\n    <tr>\n      <th>505306</th>\n      <td>2015</td>\n      <td>volkswagen</td>\n      <td>jetta</td>\n      <td>se pzev w/connectivity</td>\n      <td>navitgation</td>\n      <td>sedan</td>\n      <td>automatic</td>\n      <td>3vwd17aj7fm218440</td>\n      <td>NaN</td>\n      <td>42.0</td>\n      <td>20627</td>\n      <td>white</td>\n      <td>black</td>\n      <td>NaN</td>\n      <td>13600.0</td>\n      <td>13500</td>\n      <td>om</td>\n      <td>aut</td>\n      <td>automati</td>\n      <td>oma</td>\n    </tr>\n    <tr>\n      <th>520461</th>\n      <td>2015</td>\n      <td>volkswagen</td>\n      <td>jetta</td>\n      <td>se pzev w/connectivity</td>\n      <td>navitgation</td>\n      <td>sedan</td>\n      <td>automatic</td>\n      <td>3vwd17ajxfm315938</td>\n      <td>NaN</td>\n      <td>1.0</td>\n      <td>721</td>\n      <td>blue</td>\n      <td>gray</td>\n      <td>NaN</td>\n      <td>14100.0</td>\n      <td>8500</td>\n      <td>om</td>\n      <td>aut</td>\n      <td>automati</td>\n      <td>oma</td>\n    </tr>\n    <tr>\n      <th>528996</th>\n      <td>2015</td>\n      <td>volkswagen</td>\n      <td>jetta</td>\n      <td>se pzev w/connectivity</td>\n      <td>navitgation</td>\n      <td>sedan</td>\n      <td>automatic</td>\n      <td>3vwd17aj7fm229552</td>\n      <td>NaN</td>\n      <td>38.0</td>\n      <td>6158</td>\n      <td>black</td>\n      <td>black</td>\n      <td>NaN</td>\n      <td>13650.0</td>\n      <td>13400</td>\n      <td>om</td>\n      <td>aut</td>\n      <td>automati</td>\n      <td>oma</td>\n    </tr>\n    <tr>\n      <th>529009</th>\n      <td>2015</td>\n      <td>volkswagen</td>\n      <td>jetta</td>\n      <td>se pzev w/connectivity</td>\n      <td>navitgation</td>\n      <td>sedan</td>\n      <td>NaN</td>\n      <td>3vwd17aj8fm298895</td>\n      <td>NaN</td>\n      <td>2.0</td>\n      <td>2817</td>\n      <td>red</td>\n      <td>black</td>\n      <td>NaN</td>\n      <td>13750.0</td>\n      <td>12200</td>\n      <td>NaN</td>\n      <td>NaN</td>\n      <td>NaN</td>\n      <td>NaN</td>\n    </tr>\n    <tr>\n      <th>529013</th>\n      <td>2015</td>\n      <td>volkswagen</td>\n      <td>jetta</td>\n      <td>se pzev w/connectivity</td>\n      <td>navitgation</td>\n      <td>sedan</td>\n      <td>automatic</td>\n      <td>3vwd17aj4fm236636</td>\n      <td>NaN</td>\n      <td>5.0</td>\n      <td>5705</td>\n      <td>—</td>\n      <td>black</td>\n      <td>NaN</td>\n      <td>13400.0</td>\n      <td>15250</td>\n      <td>om</td>\n      <td>aut</td>\n      <td>automati</td>\n      <td>oma</td>\n    </tr>\n    <tr>\n      <th>529622</th>\n      <td>2015</td>\n      <td>volkswagen</td>\n      <td>jetta</td>\n      <td>se pzev w/connectivity</td>\n      <td>navitgation</td>\n      <td>sedan</td>\n      <td>automatic</td>\n      <td>3vwd17aj5fm225953</td>\n      <td>NaN</td>\n      <td>41.0</td>\n      <td>18561</td>\n      <td>black</td>\n      <td>black</td>\n      <td>NaN</td>\n      <td>13200.0</td>\n      <td>13100</td>\n      <td>om</td>\n      <td>aut</td>\n      <td>automati</td>\n      <td>oma</td>\n    </tr>\n    <tr>\n      <th>548784</th>\n      <td>2015</td>\n      <td>volkswagen</td>\n      <td>jetta</td>\n      <td>se pzev w/connectivity</td>\n      <td>navitgation</td>\n      <td>sedan</td>\n      <td>automatic</td>\n      <td>3vwd17aj7fm326640</td>\n      <td>NaN</td>\n      <td>2.0</td>\n      <td>2846</td>\n      <td>blue</td>\n      <td>black</td>\n      <td>NaN</td>\n      <td>13600.0</td>\n      <td>7500</td>\n      <td>om</td>\n      <td>aut</td>\n      <td>automati</td>\n      <td>oma</td>\n    </tr>\n    <tr>\n      <th>551222</th>\n      <td>2015</td>\n      <td>volkswagen</td>\n      <td>jetta</td>\n      <td>se pzev w/connectivity</td>\n      <td>navitgation</td>\n      <td>sedan</td>\n      <td>NaN</td>\n      <td>3vwd17aj8fm239622</td>\n      <td>NaN</td>\n      <td>2.0</td>\n      <td>9562</td>\n      <td>silver</td>\n      <td>black</td>\n      <td>NaN</td>\n      <td>13200.0</td>\n      <td>12100</td>\n      <td>NaN</td>\n      <td>NaN</td>\n      <td>NaN</td>\n      <td>NaN</td>\n    </tr>\n    <tr>\n      <th>554710</th>\n      <td>2015</td>\n      <td>volkswagen</td>\n      <td>jetta</td>\n      <td>se pzev w/connectivity</td>\n      <td>navitgation</td>\n      <td>sedan</td>\n      <td>automatic</td>\n      <td>3vwd17aj2fm261566</td>\n      <td>NaN</td>\n      <td>48.0</td>\n      <td>5001</td>\n      <td>blue</td>\n      <td>gray</td>\n      <td>NaN</td>\n      <td>13400.0</td>\n      <td>13600</td>\n      <td>om</td>\n      <td>aut</td>\n      <td>automati</td>\n      <td>oma</td>\n    </tr>\n  </tbody>\n</table>\n</div>"
          },
          "metadata": {}
        }
      ],
      "execution_count": null
    },
    {
      "cell_type": "code",
      "source": [
        "cols = ['body','transmission','vin','state','condition','odometer','color','interior','seller','mmr','sellingprice','saledate']\n",
        "df.loc[shifted, cols] = df.loc[shifted, cols].shift(-1,axis = 1)"
      ],
      "metadata": {
        "id": "a95d2a21-d0e3-4c64-b2b6-9cd8ef0ee8c6",
        "trusted": true,
        "execution": {
          "iopub.status.busy": "2025-09-03T15:33:08.587517Z",
          "iopub.execute_input": "2025-09-03T15:33:08.587812Z",
          "iopub.status.idle": "2025-09-03T15:33:08.741254Z",
          "shell.execute_reply.started": "2025-09-03T15:33:08.587784Z",
          "shell.execute_reply": "2025-09-03T15:33:08.740243Z"
        },
        "outputId": "b5c501d9-a51e-414b-82b0-b5a75f83ae66"
      },
      "outputs": [
        {
          "name": "stderr",
          "text": "/tmp/ipykernel_36/4068934545.py:2: FutureWarning: Setting an item of incompatible dtype is deprecated and will raise an error in a future version of pandas. Value '['4802' '9410' '1167' '2172' '14872' '12655' '15719' '6388' '16633'\n '11034' '2711' '6864' '339' '18384' '9887' '9837' '20379' '20627' '721'\n '6158' '2817' '5705' '18561' '2846' '9562' '5001']' has dtype incompatible with float64, please explicitly cast to a compatible dtype first.\n  df.loc[shifted, cols] = df.loc[shifted, cols].shift(-1,axis = 1)\n/tmp/ipykernel_36/4068934545.py:2: FutureWarning: Setting an item of incompatible dtype is deprecated and will raise an error in a future version of pandas. Value '['16500' '10500' '12700' '8250' '14300' '14500' '13500' '10700' '13600'\n '13000' '14000' '9800' '12900' '13500' '9900' '12900' '13500' '13500'\n '8500' '13400' '12200' '15250' '13100' '7500' '12100' '13600']' has dtype incompatible with float64, please explicitly cast to a compatible dtype first.\n  df.loc[shifted, cols] = df.loc[shifted, cols].shift(-1,axis = 1)\n",
          "output_type": "stream"
        }
      ],
      "execution_count": null
    },
    {
      "cell_type": "code",
      "source": [
        "shifted = df['vin'].str.len() != 17\n",
        "df[shifted]\n",
        "#no shifted rows"
      ],
      "metadata": {
        "id": "296d3f50-994a-446d-9c0d-75bcbdace6a8",
        "outputId": "66328b9c-0393-4bf3-c39e-3397297abbd2",
        "trusted": true,
        "execution": {
          "iopub.status.busy": "2025-09-03T15:33:08.74243Z",
          "iopub.execute_input": "2025-09-03T15:33:08.742739Z",
          "iopub.status.idle": "2025-09-03T15:33:08.913233Z",
          "shell.execute_reply.started": "2025-09-03T15:33:08.742713Z",
          "shell.execute_reply": "2025-09-03T15:33:08.912289Z"
        }
      },
      "outputs": [
        {
          "execution_count": 297,
          "output_type": "execute_result",
          "data": {
            "text/plain": "Empty DataFrame\nColumns: [year, make, model, trim, body, transmission, vin, state, condition, odometer, color, interior, seller, mmr, sellingprice, saledate, vin_3_4, vin_pre, vin8, vin_4_5]\nIndex: []",
            "text/html": "<div>\n<style scoped>\n    .dataframe tbody tr th:only-of-type {\n        vertical-align: middle;\n    }\n\n    .dataframe tbody tr th {\n        vertical-align: top;\n    }\n\n    .dataframe thead th {\n        text-align: right;\n    }\n</style>\n<table border=\"1\" class=\"dataframe\">\n  <thead>\n    <tr style=\"text-align: right;\">\n      <th></th>\n      <th>year</th>\n      <th>make</th>\n      <th>model</th>\n      <th>trim</th>\n      <th>body</th>\n      <th>transmission</th>\n      <th>vin</th>\n      <th>state</th>\n      <th>condition</th>\n      <th>odometer</th>\n      <th>color</th>\n      <th>interior</th>\n      <th>seller</th>\n      <th>mmr</th>\n      <th>sellingprice</th>\n      <th>saledate</th>\n      <th>vin_3_4</th>\n      <th>vin_pre</th>\n      <th>vin8</th>\n      <th>vin_4_5</th>\n    </tr>\n  </thead>\n  <tbody>\n  </tbody>\n</table>\n</div>"
          },
          "metadata": {}
        }
      ],
      "execution_count": null
    },
    {
      "cell_type": "code",
      "source": [
        "df.isna().sum()\n",
        "missing_before = df.isna().sum()"
      ],
      "metadata": {
        "id": "1cb8b7b2-9e30-4dad-a8ce-dfe067800948",
        "trusted": true,
        "execution": {
          "iopub.status.busy": "2025-09-03T15:33:08.914235Z",
          "iopub.execute_input": "2025-09-03T15:33:08.914532Z",
          "iopub.status.idle": "2025-09-03T15:33:09.886903Z",
          "shell.execute_reply.started": "2025-09-03T15:33:08.914504Z",
          "shell.execute_reply": "2025-09-03T15:33:09.886055Z"
        }
      },
      "outputs": [],
      "execution_count": null
    },
    {
      "cell_type": "code",
      "source": [
        "pd.set_option('display.max_columns', None)\n",
        "pd.set_option('display.max_rows', None)\n",
        "df.loc[df['make'] == 'toyota', 'vin'].str[:3].value_counts()"
      ],
      "metadata": {
        "scrolled": true,
        "id": "dc087b33-8f3b-4668-bdbd-c8edb37f5167",
        "outputId": "1b51deb9-75ec-4352-dd57-18f7c721a21e",
        "trusted": true,
        "execution": {
          "iopub.status.busy": "2025-09-03T15:33:09.887884Z",
          "iopub.execute_input": "2025-09-03T15:33:09.888188Z",
          "iopub.status.idle": "2025-09-03T15:33:09.9584Z",
          "shell.execute_reply.started": "2025-09-03T15:33:09.888161Z",
          "shell.execute_reply": "2025-09-03T15:33:09.957194Z"
        }
      },
      "outputs": [
        {
          "execution_count": 299,
          "output_type": "execute_result",
          "data": {
            "text/plain": "vin\n4t1    12962\n5td     4410\njtd     4127\n2t1     4067\njte     2885\n2t3     2182\n5yf     1868\n5tf     1622\n1nx     1308\n4t4     1160\njtm     1003\n4t3      684\n3tm      376\n5tb      376\njt3      347\njt2      288\njtn      129\n5te       83\nvnk       39\n4ta       37\njt4       11\njt5        2\nName: count, dtype: int64"
          },
          "metadata": {}
        }
      ],
      "execution_count": null
    },
    {
      "cell_type": "markdown",
      "source": [
        "## Handling make Using VIN Prefix"
      ],
      "metadata": {
        "id": "KBOixIa8oXNP"
      }
    },
    {
      "cell_type": "code",
      "source": [
        "df['vin_pre'].head()\n",
        "#first 3 index to detect the the make"
      ],
      "metadata": {
        "scrolled": true,
        "id": "6c3afaf1-e77b-44d2-b713-4105f714baee",
        "outputId": "af57dbb2-4ccc-480f-b27a-f890c5dd1bc4",
        "trusted": true,
        "execution": {
          "iopub.status.busy": "2025-09-03T15:33:09.961513Z",
          "iopub.execute_input": "2025-09-03T15:33:09.961786Z",
          "iopub.status.idle": "2025-09-03T15:33:09.968344Z",
          "shell.execute_reply.started": "2025-09-03T15:33:09.961766Z",
          "shell.execute_reply": "2025-09-03T15:33:09.967492Z"
        }
      },
      "outputs": [
        {
          "execution_count": 300,
          "output_type": "execute_result",
          "data": {
            "text/plain": "0    5xy\n1    5xy\n2    wba\n3    yv1\n4    wba\nName: vin_pre, dtype: object"
          },
          "metadata": {}
        }
      ],
      "execution_count": null
    },
    {
      "cell_type": "code",
      "source": [
        "pre_make = (df.dropna(subset=['make'])\n",
        "    .groupby('vin_pre')['make']\n",
        "    .apply(lambda x: x.value_counts().idxmax()))"
      ],
      "metadata": {
        "id": "e7d93e65-75d7-4ff6-8d52-32a90423f7e1",
        "trusted": true,
        "execution": {
          "iopub.status.busy": "2025-09-03T15:33:09.969301Z",
          "iopub.execute_input": "2025-09-03T15:33:09.96962Z",
          "iopub.status.idle": "2025-09-03T15:33:10.515747Z",
          "shell.execute_reply.started": "2025-09-03T15:33:09.96958Z",
          "shell.execute_reply": "2025-09-03T15:33:10.515029Z"
        }
      },
      "outputs": [],
      "execution_count": null
    },
    {
      "cell_type": "code",
      "source": [
        "df.loc[df['make'].isna(), 'make'] = (\n",
        "    df.loc[df['make'].isna(), 'vin'].str[:3].map(pre_make))\n"
      ],
      "metadata": {
        "id": "6b8a9320-a457-49de-aa3a-2cc2ed20fb4e",
        "trusted": true,
        "execution": {
          "iopub.status.busy": "2025-09-03T15:33:10.516821Z",
          "iopub.execute_input": "2025-09-03T15:33:10.517219Z",
          "iopub.status.idle": "2025-09-03T15:33:10.590827Z",
          "shell.execute_reply.started": "2025-09-03T15:33:10.517187Z",
          "shell.execute_reply": "2025-09-03T15:33:10.589956Z"
        }
      },
      "outputs": [],
      "execution_count": null
    },
    {
      "cell_type": "code",
      "source": [
        "df.loc[df['make'].isna(), ['vin', 'year']].value_counts()"
      ],
      "metadata": {
        "scrolled": true,
        "id": "469db4ad-7f43-4914-ad7e-f4da39a90b18",
        "outputId": "c614f8df-a337-45b5-af13-00197cbc47c1",
        "trusted": true,
        "execution": {
          "iopub.status.busy": "2025-09-03T15:33:10.591948Z",
          "iopub.execute_input": "2025-09-03T15:33:10.592262Z",
          "iopub.status.idle": "2025-09-03T15:33:10.646121Z",
          "shell.execute_reply.started": "2025-09-03T15:33:10.592241Z",
          "shell.execute_reply": "2025-09-03T15:33:10.645133Z"
        }
      },
      "outputs": [
        {
          "execution_count": 303,
          "output_type": "execute_result",
          "data": {
            "text/plain": "vin                year\n1geeh90y85u550143  2005    1\n1jccf87exft014425  1985    1\nwdype845675178050  2007    1\nwdypd744x65871254  2006    1\nwdypd644365880579  2006    1\nwdapf3cc5d9552697  2013    1\nwdapf3cc4d9554196  2013    1\nwdapf3cc4d9552920  2013    1\nwdapf3cc1d9553085  2013    1\n4gldv13w37d203460  2007    1\n4gldv13w27d199384  2007    1\n3d6ws28d57g770072  2007    1\n3d2ws28t69g526541  2009    1\n2j4fy19e4lj510779  1990    1\n2fdfp73933x203245  2003    1\n1l1fm88w17y636036  2007    1\n1l1fm81w63y651555  2003    1\n1l1fm81w61y669258  2001    1\n1l1fm81w4wy701356  1998    1\n1l1fm81w1xy707715  1999    1\n1l1fm81w13y674855  2003    1\nwdype845975168001  2007    1\nName: count, dtype: int64"
          },
          "metadata": {}
        }
      ],
      "execution_count": null
    },
    {
      "cell_type": "code",
      "source": [
        "df.loc[df['make'].isna(), 'vin'].str[:3].value_counts()"
      ],
      "metadata": {
        "scrolled": true,
        "id": "d447dd8e-ae3e-4f4c-95a8-693b33d72b47",
        "outputId": "a0cc5940-9ea0-4602-d338-2bc5aea02951",
        "trusted": true,
        "execution": {
          "iopub.status.busy": "2025-09-03T15:33:10.647637Z",
          "iopub.execute_input": "2025-09-03T15:33:10.647958Z",
          "iopub.status.idle": "2025-09-03T15:33:10.686032Z",
          "shell.execute_reply.started": "2025-09-03T15:33:10.647929Z",
          "shell.execute_reply": "2025-09-03T15:33:10.685074Z"
        }
      },
      "outputs": [
        {
          "execution_count": 304,
          "output_type": "execute_result",
          "data": {
            "text/plain": "vin\n1l1    6\nwdy    4\nwda    4\n4gl    2\n3d2    1\n1jc    1\n1ge    1\n2j4    1\n2fd    1\n3d6    1\nName: count, dtype: int64"
          },
          "metadata": {}
        }
      ],
      "execution_count": null
    },
    {
      "cell_type": "code",
      "source": [
        "df['make'].unique()"
      ],
      "metadata": {
        "id": "df1ee331-c5a6-40df-86bb-91792fb67a04",
        "outputId": "2a770448-fb6f-45f0-f8b8-2ee7bf803ea3",
        "trusted": true,
        "execution": {
          "iopub.status.busy": "2025-09-03T15:33:10.687283Z",
          "iopub.execute_input": "2025-09-03T15:33:10.687612Z",
          "iopub.status.idle": "2025-09-03T15:33:10.749151Z",
          "shell.execute_reply.started": "2025-09-03T15:33:10.687577Z",
          "shell.execute_reply": "2025-09-03T15:33:10.74819Z"
        }
      },
      "outputs": [
        {
          "execution_count": 305,
          "output_type": "execute_result",
          "data": {
            "text/plain": "array(['kia', 'bmw', 'volvo', 'nissan', 'chevrolet', 'audi', 'ford',\n       'hyundai', 'buick', 'cadillac', 'acura', 'lexus', 'infiniti',\n       'jeep', 'mercedes-benz', 'mitsubishi', 'mazda', 'mini',\n       'land rover', 'lincoln', 'jaguar', 'volkswagen', 'toyota',\n       'subaru', 'scion', 'porsche', 'dodge', 'fiat', 'chrysler',\n       'ferrari', 'honda', 'gmc', 'ram', 'smart', 'bentley', 'pontiac',\n       'saturn', 'maserati', 'mercury', 'hummer', 'landrover', 'mercedes',\n       'gmc truck', 'saab', 'suzuki', 'oldsmobile', 'isuzu', 'dodge tk',\n       'geo', 'rolls-royce', 'mazda tk', 'hyundai tk', 'mercedes-b', 'vw',\n       'daewoo', 'chev truck', 'ford tk', 'plymouth', 'ford truck',\n       'tesla', 'airstream', 'dot', 'aston martin', 'fisker', nan,\n       'lamborghini', 'lotus'], dtype=object)"
          },
          "metadata": {}
        }
      ],
      "execution_count": null
    },
    {
      "cell_type": "code",
      "source": [
        "vin_make_map = {\n",
        "    '1jc': 'jeep',\n",
        "    '2j4': 'jeep',\n",
        "    '1ge': 'cadillac',\n",
        "    'wdy': 'freightliner',\n",
        "    '4gl': 'buick',\n",
        "    '3d2': 'dodge',\n",
        "    '3d6': 'dodge',\n",
        "    '2fd': 'ford',\n",
        "    '1l1': 'lincoln',\n",
        "    'wda': 'mercedes-benz'}\n",
        "\n",
        "df.loc[df['make'].isna(), 'make'] = df.loc[df['make'].isna(), 'vin_pre'].map(vin_make_map)"
      ],
      "metadata": {
        "id": "2bf69e81-991a-403a-8a27-38685c4d7e59",
        "trusted": true,
        "execution": {
          "iopub.status.busy": "2025-09-03T15:33:10.750046Z",
          "iopub.execute_input": "2025-09-03T15:33:10.750316Z",
          "iopub.status.idle": "2025-09-03T15:33:10.830822Z",
          "shell.execute_reply.started": "2025-09-03T15:33:10.750289Z",
          "shell.execute_reply": "2025-09-03T15:33:10.829807Z"
        }
      },
      "outputs": [],
      "execution_count": null
    },
    {
      "cell_type": "code",
      "source": [
        "df['make'].isna().sum()\n",
        "#make col is done"
      ],
      "metadata": {
        "id": "e965a9f8-3dac-4b19-bfee-3115f25b25d2",
        "outputId": "d20df1cf-5bb7-4011-c3f4-d865aaff1c70",
        "trusted": true,
        "execution": {
          "iopub.status.busy": "2025-09-03T15:33:10.831968Z",
          "iopub.execute_input": "2025-09-03T15:33:10.832274Z",
          "iopub.status.idle": "2025-09-03T15:33:10.877763Z",
          "shell.execute_reply.started": "2025-09-03T15:33:10.832248Z",
          "shell.execute_reply": "2025-09-03T15:33:10.876393Z"
        }
      },
      "outputs": [
        {
          "execution_count": 307,
          "output_type": "execute_result",
          "data": {
            "text/plain": "0"
          },
          "metadata": {}
        }
      ],
      "execution_count": null
    },
    {
      "cell_type": "markdown",
      "source": [
        "## Handling model, trim, body, transmission"
      ],
      "metadata": {
        "id": "bD82toEPoXNQ"
      }
    },
    {
      "cell_type": "code",
      "source": [
        "df['vin8'].sample(10)\n",
        "#first 8 index to detect model, transmission, body, trim"
      ],
      "metadata": {
        "scrolled": true,
        "id": "521e5d5f-bfcf-4aea-8941-09765461a983",
        "outputId": "e02106b5-b217-4052-c145-d43299ba6897",
        "trusted": true,
        "execution": {
          "iopub.status.busy": "2025-09-03T15:33:10.879194Z",
          "iopub.execute_input": "2025-09-03T15:33:10.879502Z",
          "iopub.status.idle": "2025-09-03T15:33:10.9197Z",
          "shell.execute_reply.started": "2025-09-03T15:33:10.879478Z",
          "shell.execute_reply": "2025-09-03T15:33:10.918941Z"
        }
      },
      "outputs": [
        {
          "execution_count": 308,
          "output_type": "execute_result",
          "data": {
            "text/plain": "304665    2c4rc1bg\n332863    5n1aa0ne\n462783    4a3aa46g\n272776    1fm5k8d8\n248667    1fmcu0d7\n190180    jn1cv6ap\n265849    jthbe1bl\n558391    wddgf81x\n369024    kmhct4ae\n532771    4t1bf1fk\nName: vin8, dtype: object"
          },
          "metadata": {}
        }
      ],
      "execution_count": null
    },
    {
      "cell_type": "code",
      "source": [
        "model = (df.dropna(subset=['model'])\n",
        "               .drop_duplicates('vin8')\n",
        "               .set_index('vin8')['model'])\n",
        "\n",
        "df.loc[df['model'].isna() & df['vin8'].notna(), 'model'] = (\n",
        "    df.loc[df['model'].isna() & df['vin8'].notna(), 'vin8'].map(model))"
      ],
      "metadata": {
        "id": "96cfc883-4cf0-44b5-ab35-e068d4cde776",
        "trusted": true,
        "execution": {
          "iopub.status.busy": "2025-09-03T15:33:10.92059Z",
          "iopub.execute_input": "2025-09-03T15:33:10.920853Z",
          "iopub.status.idle": "2025-09-03T15:33:11.385383Z",
          "shell.execute_reply.started": "2025-09-03T15:33:10.920823Z",
          "shell.execute_reply": "2025-09-03T15:33:11.384537Z"
        }
      },
      "outputs": [],
      "execution_count": null
    },
    {
      "cell_type": "code",
      "source": [
        "df['model'].isna().sum()"
      ],
      "metadata": {
        "id": "b9e43b2b-5a64-4aed-81f0-f2a26a65712f",
        "outputId": "bb40a952-8cfb-4737-8387-a276d8b4fee8",
        "trusted": true,
        "execution": {
          "iopub.status.busy": "2025-09-03T15:33:11.386583Z",
          "iopub.execute_input": "2025-09-03T15:33:11.386815Z",
          "iopub.status.idle": "2025-09-03T15:33:11.422209Z",
          "shell.execute_reply.started": "2025-09-03T15:33:11.386796Z",
          "shell.execute_reply": "2025-09-03T15:33:11.421323Z"
        }
      },
      "outputs": [
        {
          "execution_count": 310,
          "output_type": "execute_result",
          "data": {
            "text/plain": "746"
          },
          "metadata": {}
        }
      ],
      "execution_count": null
    },
    {
      "cell_type": "code",
      "source": [
        "print(df['transmission'].value_counts())\n",
        "print(df['transmission'].isna().sum())"
      ],
      "metadata": {
        "id": "4f443ad0-ccd4-4f52-bf56-45cf193eb6b7",
        "outputId": "10751e95-d95e-480b-8f0a-46dc4478951a",
        "trusted": true,
        "execution": {
          "iopub.status.busy": "2025-09-03T15:33:11.423136Z",
          "iopub.execute_input": "2025-09-03T15:33:11.423449Z",
          "iopub.status.idle": "2025-09-03T15:33:11.55077Z",
          "shell.execute_reply.started": "2025-09-03T15:33:11.423421Z",
          "shell.execute_reply": "2025-09-03T15:33:11.549835Z"
        }
      },
      "outputs": [
        {
          "name": "stdout",
          "text": "transmission\nautomatic    475937\nmanual        17544\nName: count, dtype: int64\n65356\n",
          "output_type": "stream"
        }
      ],
      "execution_count": null
    },
    {
      "cell_type": "code",
      "source": [
        "fill_table = df.dropna(subset=['trim','body','model','transmission']).groupby('vin_4_5')[['trim','body','model','transmission']].first()\n",
        "for col in ['trim','body','model','transmission']:\n",
        "    df.loc[df[col].isna(), col] = df.loc[df[col].isna(), 'vin_4_5'].map(fill_table[col])\n"
      ],
      "metadata": {
        "id": "ba675cdd-e0b1-4731-8964-833e687d5cce",
        "trusted": true,
        "execution": {
          "iopub.status.busy": "2025-09-03T15:33:11.551865Z",
          "iopub.execute_input": "2025-09-03T15:33:11.552275Z",
          "iopub.status.idle": "2025-09-03T15:33:12.3413Z",
          "shell.execute_reply.started": "2025-09-03T15:33:11.552246Z",
          "shell.execute_reply": "2025-09-03T15:33:12.340418Z"
        }
      },
      "outputs": [],
      "execution_count": null
    },
    {
      "cell_type": "code",
      "source": [
        "df.isna().sum()"
      ],
      "metadata": {
        "trusted": true,
        "execution": {
          "iopub.status.busy": "2025-09-03T15:33:12.342235Z",
          "iopub.execute_input": "2025-09-03T15:33:12.34247Z",
          "iopub.status.idle": "2025-09-03T15:33:12.809791Z",
          "shell.execute_reply.started": "2025-09-03T15:33:12.342451Z",
          "shell.execute_reply": "2025-09-03T15:33:12.809045Z"
        },
        "id": "SXvdeOWLoXNR",
        "outputId": "b20ea8bb-ae62-4243-c976-2cfecd575bc7"
      },
      "outputs": [
        {
          "execution_count": 313,
          "output_type": "execute_result",
          "data": {
            "text/plain": "year                0\nmake                0\nmodel             141\ntrim              911\nbody             1109\ntransmission      228\nvin                 0\nstate              26\ncondition       11794\nodometer           94\ncolor             749\ninterior          749\nseller             26\nmmr                12\nsellingprice       12\nsaledate           38\nvin_3_4             4\nvin_pre             4\nvin8                4\nvin_4_5             4\ndtype: int64"
          },
          "metadata": {}
        }
      ],
      "execution_count": null
    },
    {
      "cell_type": "markdown",
      "source": [
        "## Final Refinements & Manual Mapping"
      ],
      "metadata": {
        "id": "TBgAsdoHoXNR"
      }
    },
    {
      "cell_type": "code",
      "source": [
        "manual_table = {\n",
        "    'lm9': [\n",
        "        ['base', 'coupe', 'mark viii', 'automatic']\n",
        "    ],\n",
        "    'ha7': [\n",
        "        ['unlimited 70th anniversary', 'suv', 'wrangler', 'automatic']\n",
        "    ],\n",
        "    'zar': [\n",
        "        ['le', 'suv', 'highlander', 'automatic']\n",
        "    ],\n",
        "    'gv2': [\n",
        "        ['autobiography', 'suv', 'range rover', 'automatic']\n",
        "    ],\n",
        "    'pcc': [\n",
        "        ['sx', 'suv', 'sportage', 'automatic'],\n",
        "        ['ex', 'suv', 'sportage', 'automatic']\n",
        "    ],\n",
        "    'ks1': [\n",
        "        ['slt', 'mega cab', 'ram pickup 1500', 'automatic'],\n",
        "        ['laramie', 'mega cab', 'ram pickup 1500', 'automatic']\n",
        "    ],\n",
        "    'bu3': [\n",
        "        ['3.0i', 'convertible', 'z4', 'automatic'],\n",
        "        ['gxe', 'sedan', 'altima', 'automatic'],\n",
        "        ['se', 'sedan', 'altima', 'automatic']\n",
        "    ],\n",
        "    'fd3': [\n",
        "        ['lt', 'convertible', 'camaro', 'automatic']\n",
        "    ],\n",
        "    'vn3': [\n",
        "        ['limited', 'suv', '4runner', 'automatic'],\n",
        "        ['sr5 v6', 'suv', '4runner', 'automatic']\n",
        "    ],\n",
        "    'su4': [\n",
        "        ['eddie bauer', 'suv', 'excursion', 'automatic'],\n",
        "        ['limited', 'suv', 'excursion', 'automatic'],\n",
        "        ['4x4 v8 limited', 'suv', 'excurs', 'automatic']\n",
        "    ],\n",
        "    'ng5': [\n",
        "        ['gls', 'sedan', 'cutlass', 'automatic']\n",
        "    ],\n",
        "    'cv9': [\n",
        "        ['s', 'suv', 'tiguan', 'automatic']\n",
        "    ],\n",
        "    'yy5': [\n",
        "        ['platinum', 'suv', 'sequoia', 'automatic']\n",
        "    ],\n",
        "    'tt2': [\n",
        "        ['laramie', 'crew cab', 'ram pickup 2500', 'automatic'],\n",
        "        ['laramie longhorn edition', 'crew cab', '2500', 'automatic']\n",
        "    ],\n",
        "    '1b5': [\n",
        "        ['ls', 'sedan', 'malibu', 'automatic']\n",
        "    ],\n",
        "    'br5': [\n",
        "        ['base', 'sedan', 'continental flying spur', 'automatic']\n",
        "    ],\n",
        "    'fmb': [\n",
        "        ['tdi premium plus quattro', 'sedan', 'a6', 'automatic']\n",
        "    ],\n",
        "    '1e5': [\n",
        "        ['lt', 'sedan', 'malibu', 'automatic']\n",
        "    ],\n",
        "    'ag2': [\n",
        "        ['base', 'suv', 'lr4', 'automatic'],\n",
        "        ['v8 hse', 'suv', 'lr3', 'automatic'],\n",
        "        ['hse', 'suv', 'lr4', 'automatic'],\n",
        "        ['v8', 'suv', 'lr4', 'automatic']\n",
        "    ],\n",
        "    'rd5': [\n",
        "        ['citadel', 'suv', 'durango', 'automatic']\n",
        "    ]\n",
        "}\n"
      ],
      "metadata": {
        "id": "5c935a90-e7bd-4983-906d-0bf1a0a3e946",
        "trusted": true,
        "execution": {
          "iopub.status.busy": "2025-09-03T15:33:12.81079Z",
          "iopub.execute_input": "2025-09-03T15:33:12.811096Z",
          "iopub.status.idle": "2025-09-03T15:33:12.820997Z",
          "shell.execute_reply.started": "2025-09-03T15:33:12.81107Z",
          "shell.execute_reply": "2025-09-03T15:33:12.82006Z"
        }
      },
      "outputs": [],
      "execution_count": null
    },
    {
      "cell_type": "code",
      "source": [
        "for vin_key, values in manual_table.items():\n",
        "    for trim, body, model, trans in values:\n",
        "        mask = df['vin_4_5'] == vin_key\n",
        "        df.loc[mask, ['trim','body','model','transmission']] = [trim, body, model, trans]"
      ],
      "metadata": {
        "id": "348e009a-0b26-4e48-abd6-1fc5767029dc",
        "trusted": true,
        "execution": {
          "iopub.status.busy": "2025-09-03T15:33:12.821917Z",
          "iopub.execute_input": "2025-09-03T15:33:12.822259Z",
          "iopub.status.idle": "2025-09-03T15:33:14.601197Z",
          "shell.execute_reply.started": "2025-09-03T15:33:12.82223Z",
          "shell.execute_reply": "2025-09-03T15:33:14.600328Z"
        }
      },
      "outputs": [],
      "execution_count": null
    },
    {
      "cell_type": "code",
      "source": [
        "df.isna().sum()"
      ],
      "metadata": {
        "id": "78bfaa7f-6847-43ba-a6df-c9f92e0f42bc",
        "trusted": true,
        "execution": {
          "iopub.status.busy": "2025-09-03T15:33:14.602167Z",
          "iopub.execute_input": "2025-09-03T15:33:14.602451Z",
          "iopub.status.idle": "2025-09-03T15:33:15.065461Z",
          "shell.execute_reply.started": "2025-09-03T15:33:14.602424Z",
          "shell.execute_reply": "2025-09-03T15:33:15.064591Z"
        },
        "outputId": "3466d29b-ba09-4008-a618-92971048ef35"
      },
      "outputs": [
        {
          "execution_count": 316,
          "output_type": "execute_result",
          "data": {
            "text/plain": "year                0\nmake                0\nmodel             141\ntrim              911\nbody             1109\ntransmission      228\nvin                 0\nstate              26\ncondition       11794\nodometer           94\ncolor             749\ninterior          749\nseller             26\nmmr                12\nsellingprice       12\nsaledate           38\nvin_3_4             4\nvin_pre             4\nvin8                4\nvin_4_5             4\ndtype: int64"
          },
          "metadata": {}
        }
      ],
      "execution_count": null
    },
    {
      "cell_type": "code",
      "source": [
        "fill_table = df.dropna(subset=['model','body']).groupby(['make','year','vin_3_4'])[['model','body']].first()\n",
        "for col in ['model','body']:\n",
        "    df.loc[df[col].isna(), col] = df.loc[df[col].isna()].apply(\n",
        "        lambda x: fill_table.loc[(x['make'], x['year'], x['vin_3_4']), col]\n",
        "                  if (x['make'], x['year'], x['vin_3_4']) in fill_table.index else x[col], axis=1 )"
      ],
      "metadata": {
        "id": "c292a2aa-b572-46e7-9481-325009fcef34",
        "trusted": true,
        "execution": {
          "iopub.status.busy": "2025-09-03T15:33:15.066379Z",
          "iopub.execute_input": "2025-09-03T15:33:15.066642Z",
          "iopub.status.idle": "2025-09-03T15:33:15.789863Z",
          "shell.execute_reply.started": "2025-09-03T15:33:15.066619Z",
          "shell.execute_reply": "2025-09-03T15:33:15.789002Z"
        }
      },
      "outputs": [],
      "execution_count": null
    },
    {
      "cell_type": "code",
      "source": [
        "df.isna().sum()"
      ],
      "metadata": {
        "id": "e4a3d033-d2bd-45c1-b5e3-9381e7212ecb",
        "outputId": "0cb434da-6d03-4ccf-a62e-3167dc1b9939",
        "trusted": true,
        "execution": {
          "iopub.status.busy": "2025-09-03T15:33:15.794013Z",
          "iopub.execute_input": "2025-09-03T15:33:15.794261Z",
          "iopub.status.idle": "2025-09-03T15:33:16.257822Z",
          "shell.execute_reply.started": "2025-09-03T15:33:15.794242Z",
          "shell.execute_reply": "2025-09-03T15:33:16.256902Z"
        }
      },
      "outputs": [
        {
          "execution_count": 318,
          "output_type": "execute_result",
          "data": {
            "text/plain": "year                0\nmake                0\nmodel              69\ntrim              911\nbody              350\ntransmission      228\nvin                 0\nstate              26\ncondition       11794\nodometer           94\ncolor             749\ninterior          749\nseller             26\nmmr                12\nsellingprice       12\nsaledate           38\nvin_3_4             4\nvin_pre             4\nvin8                4\nvin_4_5             4\ndtype: int64"
          },
          "metadata": {}
        }
      ],
      "execution_count": null
    },
    {
      "cell_type": "markdown",
      "source": [
        "## Validation"
      ],
      "metadata": {
        "id": "9Waz90FIoXNa"
      }
    },
    {
      "cell_type": "code",
      "source": [
        "missing_after = df.isna().sum()\n",
        "\n",
        "print(pd.DataFrame({'Before': missing_before, 'After': missing_after}))\n"
      ],
      "metadata": {
        "trusted": true,
        "execution": {
          "iopub.status.busy": "2025-09-03T15:33:16.258646Z",
          "iopub.execute_input": "2025-09-03T15:33:16.258856Z",
          "iopub.status.idle": "2025-09-03T15:33:16.727185Z",
          "shell.execute_reply.started": "2025-09-03T15:33:16.25884Z",
          "shell.execute_reply": "2025-09-03T15:33:16.72618Z"
        },
        "id": "XA-Xvj4ooXNa",
        "outputId": "7943ca49-0cf1-4915-cdb3-a5d8731c6b74"
      },
      "outputs": [
        {
          "name": "stdout",
          "text": "              Before  After\nyear               0      0\nmake           10301      0\nmodel          10399     69\ntrim           10651    911\nbody           13195    350\ntransmission   65356    228\nvin                0      0\nstate             26     26\ncondition      11794  11794\nodometer          94     94\ncolor            749    749\ninterior         749    749\nseller            26     26\nmmr               12     12\nsellingprice      12     12\nsaledate          38     38\nvin_3_4            4      4\nvin_pre            4      4\nvin8               4      4\nvin_4_5            4      4\n",
          "output_type": "stream"
        }
      ],
      "execution_count": null
    },
    {
      "cell_type": "markdown",
      "source": [
        "---\n",
        "\n",
        "## Conclusion & Insights\n",
        "\n",
        "- **Key Findings**:  \n",
        "  - e.g., \"Brand X offers the highest median sale price\",  \n",
        "  - \"Mileage negatively correlates with price\",  \n",
        "  - \"Most vehicles sold within Y model years.\"\n",
        "\n",
        "- **Recommendations / Next Steps**:  \n",
        "  - \"Explore predictive modeling for price estimation\",  \n",
        "  - \"Segment analysis by region or seller type.\"\n",
        "\n",
        "---\n",
        "\n",
        "**Author:** [Misk Mohammed]  \n",
        "**LinkedIn:** [www.linkedin.com/in/misk-mohammed-aba08a2b6]  \n",
        "**Kaggle Notebook:** [https://www.kaggle.com/code/miskbadr/vehicle-sales-cleanning]\n"
      ],
      "metadata": {
        "id": "g54jETJ_oXNa"
      }
    }
  ]
}